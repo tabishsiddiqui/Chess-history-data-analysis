{
  "nbformat": 4,
  "nbformat_minor": 0,
  "metadata": {
    "colab": {
      "provenance": [],
      "collapsed_sections": []
    },
    "kernelspec": {
      "name": "python3",
      "display_name": "Python 3"
    },
    "language_info": {
      "name": "python"
    }
  },
  "cells": [
    {
      "cell_type": "markdown",
      "source": [
        "# **Section-1 (setting up environment for spark):**"
      ],
      "metadata": {
        "id": "nMEZb3fYryPw"
      }
    },
    {
      "cell_type": "code",
      "execution_count": 1,
      "metadata": {
        "colab": {
          "base_uri": "https://localhost:8080/"
        },
        "id": "2hN2tU3enfQ9",
        "outputId": "2d69efc1-16de-45cf-f958-d7fa463af793"
      },
      "outputs": [
        {
          "output_type": "stream",
          "name": "stdout",
          "text": [
            "Get:1 http://security.ubuntu.com/ubuntu bionic-security InRelease [88.7 kB]\n",
            "Get:2 https://cloud.r-project.org/bin/linux/ubuntu bionic-cran40/ InRelease [3,626 B]\n",
            "Hit:3 http://archive.ubuntu.com/ubuntu bionic InRelease\n",
            "Get:4 http://archive.ubuntu.com/ubuntu bionic-updates InRelease [88.7 kB]\n",
            "Get:5 http://ppa.launchpad.net/c2d4u.team/c2d4u4.0+/ubuntu bionic InRelease [15.9 kB]\n",
            "Get:6 http://archive.ubuntu.com/ubuntu bionic-backports InRelease [83.3 kB]\n",
            "Ign:7 https://developer.download.nvidia.com/compute/machine-learning/repos/ubuntu1804/x86_64  InRelease\n",
            "Hit:8 https://developer.download.nvidia.com/compute/cuda/repos/ubuntu1804/x86_64  InRelease\n",
            "Hit:9 https://developer.download.nvidia.com/compute/machine-learning/repos/ubuntu1804/x86_64  Release\n",
            "Hit:10 http://ppa.launchpad.net/cran/libgit2/ubuntu bionic InRelease\n",
            "Hit:11 http://ppa.launchpad.net/deadsnakes/ppa/ubuntu bionic InRelease\n",
            "Get:12 http://security.ubuntu.com/ubuntu bionic-security/universe amd64 Packages [1,545 kB]\n",
            "Hit:13 http://ppa.launchpad.net/graphics-drivers/ppa/ubuntu bionic InRelease\n",
            "Get:14 http://security.ubuntu.com/ubuntu bionic-security/main amd64 Packages [2,990 kB]\n",
            "Get:15 http://archive.ubuntu.com/ubuntu bionic-updates/universe amd64 Packages [2,322 kB]\n",
            "Get:16 http://archive.ubuntu.com/ubuntu bionic-updates/main amd64 Packages [3,422 kB]\n",
            "Get:17 http://ppa.launchpad.net/c2d4u.team/c2d4u4.0+/ubuntu bionic/main Sources [2,155 kB]\n",
            "Get:18 http://archive.ubuntu.com/ubuntu bionic-backports/universe amd64 Packages [20.6 kB]\n",
            "Get:19 http://archive.ubuntu.com/ubuntu bionic-backports/main amd64 Packages [64.0 kB]\n",
            "Get:21 http://ppa.launchpad.net/c2d4u.team/c2d4u4.0+/ubuntu bionic/main amd64 Packages [1,104 kB]\n",
            "Fetched 13.9 MB in 3s (4,010 kB/s)\n",
            "Reading package lists... Done\n"
          ]
        }
      ],
      "source": [
        "# updating packages\n",
        "!apt-get update -y"
      ]
    },
    {
      "cell_type": "code",
      "source": [
        "# installing java\n",
        "!apt-get install openjdk-8-jdk-headless -qq > /dev/null"
      ],
      "metadata": {
        "id": "v__D2YFSn2Nu"
      },
      "execution_count": 2,
      "outputs": []
    },
    {
      "cell_type": "code",
      "source": [
        "# downloading apache spark with hadoop 2.7\n",
        "!wget -q https://archive.apache.org/dist/spark/spark-3.1.2/spark-3.1.2-bin-hadoop2.7.tgz"
      ],
      "metadata": {
        "id": "41rhzWUyn9F0"
      },
      "execution_count": 3,
      "outputs": []
    },
    {
      "cell_type": "code",
      "source": [
        "# unzipping and installing spark\n",
        "!tar xf spark-3.1.2-bin-hadoop2.7.tgz"
      ],
      "metadata": {
        "id": "-0tJByKboFTk"
      },
      "execution_count": 4,
      "outputs": []
    },
    {
      "cell_type": "code",
      "source": [
        "# setting environment variables for spark and java\n",
        "import os\n",
        "os.environ[\"JAVA_HOME\"] = \"/usr/lib/jvm/java-8-openjdk-amd64\"\n",
        "os.environ[\"SPARK_HOME\"] = \"/content/spark-3.1.2-bin-hadoop2.7\""
      ],
      "metadata": {
        "id": "WXsFNzQdpPgt"
      },
      "execution_count": 5,
      "outputs": []
    },
    {
      "cell_type": "code",
      "source": [
        "# installing and importing finspark library that will locate spark in system\n",
        "!pip install -q findspark\n",
        "import findspark\n",
        "findspark.init()\n"
      ],
      "metadata": {
        "id": "XHN7bsKZpT98"
      },
      "execution_count": 6,
      "outputs": []
    },
    {
      "cell_type": "code",
      "source": [
        "# importing and creating spark session\n",
        "from pyspark.sql import SparkSession\n",
        "\n",
        "spark = (SparkSession\n",
        "        .builder\n",
        "        .appName(\"tabish_DG\")\n",
        "        .getOrCreate())"
      ],
      "metadata": {
        "id": "HOzRZfskpWvd"
      },
      "execution_count": 7,
      "outputs": []
    },
    {
      "cell_type": "code",
      "source": [
        "spark"
      ],
      "metadata": {
        "colab": {
          "base_uri": "https://localhost:8080/",
          "height": 219
        },
        "id": "6yTN9IEOpcf0",
        "outputId": "3530af47-67b9-4d7e-950b-590f3c5cd467"
      },
      "execution_count": 8,
      "outputs": [
        {
          "output_type": "execute_result",
          "data": {
            "text/plain": [
              "<pyspark.sql.session.SparkSession at 0x7f8c8ab84250>"
            ],
            "text/html": [
              "\n",
              "            <div>\n",
              "                <p><b>SparkSession - in-memory</b></p>\n",
              "                \n",
              "        <div>\n",
              "            <p><b>SparkContext</b></p>\n",
              "\n",
              "            <p><a href=\"http://1dd398a41190:4040\">Spark UI</a></p>\n",
              "\n",
              "            <dl>\n",
              "              <dt>Version</dt>\n",
              "                <dd><code>v3.1.2</code></dd>\n",
              "              <dt>Master</dt>\n",
              "                <dd><code>local[*]</code></dd>\n",
              "              <dt>AppName</dt>\n",
              "                <dd><code>tabish_DG</code></dd>\n",
              "            </dl>\n",
              "        </div>\n",
              "        \n",
              "            </div>\n",
              "        "
            ]
          },
          "metadata": {},
          "execution_count": 8
        }
      ]
    },
    {
      "cell_type": "code",
      "source": [
        "# dowloading files\n",
        "import gdown\n",
        "url = \"https://drive.google.com/drive/folders/1QgWPHV_l25Ui9L7et8mkZohAOG59UTkQ\"\n",
        "gdown.download_folder(url, quiet = True, use_cookies = False)"
      ],
      "metadata": {
        "colab": {
          "base_uri": "https://localhost:8080/"
        },
        "id": "EkB-NbZ8po9k",
        "outputId": "2b95205f-0dcc-442c-9754-b30e692edb5c"
      },
      "execution_count": 9,
      "outputs": [
        {
          "output_type": "execute_result",
          "data": {
            "text/plain": [
              "['/content/chess/chess_schema.png',\n",
              " '/content/chess/chess_wc_history_game_info.csv',\n",
              " '/content/chess/chess_wc_history_moves.csv',\n",
              " '/content/chess/eco_codes.csv']"
            ]
          },
          "metadata": {},
          "execution_count": 9
        }
      ]
    },
    {
      "cell_type": "code",
      "source": [
        "# creating dataframes\n",
        "# file 1 - eco_codes:\n",
        "eco = spark.read.format(\"csv\").option(\"header\", True).option(\"inferSchema\", True).load(\"/content/chess/eco_codes.csv\")"
      ],
      "metadata": {
        "id": "-5l4bMi5q2Js"
      },
      "execution_count": 10,
      "outputs": []
    },
    {
      "cell_type": "code",
      "source": [
        "eco.show()"
      ],
      "metadata": {
        "colab": {
          "base_uri": "https://localhost:8080/"
        },
        "id": "Gg8QGvtRsL8t",
        "outputId": "f73cec8d-5b3c-418b-efb8-b36959a0f3a4"
      },
      "execution_count": 11,
      "outputs": [
        {
          "output_type": "stream",
          "name": "stdout",
          "text": [
            "+---+--------------------+--------------------+--------+---------+\n",
            "|eco|            eco_name|         eco_example|eco_type|eco_group|\n",
            "+---+--------------------+--------------------+--------+---------+\n",
            "|A00|    Uncommon Opening|  1 g4, a3, h3, etc.|       A|    Flank|\n",
            "|A01|Nimzovich-Larsen ...|                1 b3|       A|    Flank|\n",
            "|A02|      Bird's Opening|                1 f4|       A|    Flank|\n",
            "|A03|      Bird's Opening|             1 f4 d5|       A|    Flank|\n",
            "|A04|        Reti Opening|               1 Nf3|       A|    Flank|\n",
            "|A05|        Reti Opening|           1 Nf3 Nf6|       A|    Flank|\n",
            "|A06|        Reti Opening|            1 Nf3 d5|       A|    Flank|\n",
            "|A07|King's Indian Attack|       1 Nf3 d5 2 g3|       A|    Flank|\n",
            "|A08|King's Indian Attack|1 Nf3 d5 2 g3 c5 ...|       A|    Flank|\n",
            "|A09|        Reti Opening|       1 Nf3 d5 2 c4|       A|    Flank|\n",
            "|A10|             English|                1 c4|       A|    Flank|\n",
            "|A11|English, Caro-Kan...|             1 c4 c6|       A|    Flank|\n",
            "|A12|     English with b3|1 c4 c6 2 Nf3 d5 ...|       A|    Flank|\n",
            "|A13|             English|             1 c4 e6|       A|    Flank|\n",
            "|A14|             English|1 c4 e6 2 Nf3 d5 ...|       A|    Flank|\n",
            "|A15|             English|            1 c4 Nf6|       A|    Flank|\n",
            "|A16|             English|      1 c4 Nf6 2 Nc3|       A|    Flank|\n",
            "|A17|             English|   1 c4 Nf6 2 Nc3 e6|       A|    Flank|\n",
            "|A18|English, Mikenas-...|1 c4 Nf6 2 Nc3 e6...|       A|    Flank|\n",
            "|A19|English, Mikenas-...|1 c4 Nf6 2 Nc3 e6...|       A|    Flank|\n",
            "+---+--------------------+--------------------+--------+---------+\n",
            "only showing top 20 rows\n",
            "\n"
          ]
        }
      ]
    },
    {
      "cell_type": "code",
      "source": [
        "eco.count()"
      ],
      "metadata": {
        "colab": {
          "base_uri": "https://localhost:8080/"
        },
        "id": "ymfc-JwYsX8E",
        "outputId": "f50f77db-bacd-4f48-da3e-e9c14653d395"
      },
      "execution_count": 12,
      "outputs": [
        {
          "output_type": "execute_result",
          "data": {
            "text/plain": [
              "500"
            ]
          },
          "metadata": {},
          "execution_count": 12
        }
      ]
    },
    {
      "cell_type": "code",
      "source": [
        "# file 2 - chess_wc_history_moves:\n",
        "moves = spark.read.format(\"csv\").option(\"header\", True).option(\"inferSchema\", True).load(\"/content/chess/chess_wc_history_moves.csv\")"
      ],
      "metadata": {
        "id": "ynVssafEt9RT"
      },
      "execution_count": 13,
      "outputs": []
    },
    {
      "cell_type": "code",
      "source": [
        "moves.show()"
      ],
      "metadata": {
        "colab": {
          "base_uri": "https://localhost:8080/"
        },
        "id": "ggYQ8LyTuZRk",
        "outputId": "4f5b8524-c046-4781-e208-db46d24d8cac"
      },
      "execution_count": 14,
      "outputs": [
        {
          "output_type": "stream",
          "name": "stdout",
          "text": [
            "+--------------------+-------+------------+----------------+--------+----+-----------+---------+-----+-----+--------------------+--------+-------------+--------------+----------------------+------------+------------------------+-----------+-----------+----------------+----------------+-----------------+-----------------+------------------+------------------+------------------+------------------+----------------+----------------+------------------------+------------------------+--------------------+--------------------+--------------------+--------------------+--------------------+--------------------+--------------------+--------------------+--------------------+--------------------+--------------------+--------------------+--------------------+--------------------+--------------------+--------------------+--------------------+--------------------+--------------------+--------------------+--------------------+--------------------+--------------------+--------------------+--------------------+--------------------+--------------------+--------------------+--------------------+--------------------+--------------------+--------------------+--------------------+\n",
            "|             game_id|move_no|move_no_pair|          player|notation|move|from_square|to_square|piece|color|                 fen|is_check|is_check_mate|is_fifty_moves|is_fivefold_repetition|is_game_over|is_insufficient_material|white_count|black_count|white_pawn_count|black_pawn_count|white_queen_count|black_queen_count|white_bishop_count|black_bishop_count|white_knight_count|black_knight_count|white_rook_count|black_rook_count|captured_score_for_white|captured_score_for_black|fen_row1_white_count|fen_row2_white_count|fen_row3_white_count|fen_row4_white_count|fen_row5_white_count|fen_row6_white_count|fen_row7_white_count|fen_row8_white_count|fen_row1_white_value|fen_row2_white_value|fen_row3_white_value|fen_row4_white_value|fen_row5_white_value|fen_row6_white_value|fen_row7_white_value|fen_row8_white_value|fen_row1_black_count|fen_row2_black_count|fen_row3_black_count|fen_row4_black_count|fen_row5_black_count|fen_row6_black_count|fen_row7_black_count|fen_row8_black_count|fen_row1_black_value|fen_row2_black_value|fen_row3_black_value|fen_row4_black_value|fen_row5_black_value|fen_row6_black_value|fen_row7_black_value|fen_row8_black_value|       move_sequence|\n",
            "+--------------------+-------+------------+----------------+--------+----+-----------+---------+-----+-----+--------------------+--------+-------------+--------------+----------------------+------------+------------------------+-----------+-----------+----------------+----------------+-----------------+-----------------+------------------+------------------+------------------+------------------+----------------+----------------+------------------------+------------------------+--------------------+--------------------+--------------------+--------------------+--------------------+--------------------+--------------------+--------------------+--------------------+--------------------+--------------------+--------------------+--------------------+--------------------+--------------------+--------------------+--------------------+--------------------+--------------------+--------------------+--------------------+--------------------+--------------------+--------------------+--------------------+--------------------+--------------------+--------------------+--------------------+--------------------+--------------------+--------------------+--------------------+\n",
            "|86e0b7f5-7b94-4ae...|      1|           1|Nepomniachtchi,I|      e4|e2e4|         e2|       e4|    P|White|rnbqkbnr/pppppppp...|       0|            0|             0|                     0|           0|                       0|         16|         16|               8|               8|                1|                1|                 2|                 2|                 2|                 2|               2|               2|                       0|                       0|                   8|                   7|                   0|                   1|                   0|                   0|                   0|                   0|                  31|                   7|                   0|                   1|                   0|                   0|                   0|                   0|                   0|                   0|                   0|                   0|                   0|                   0|                   8|                   8|                   0|                   0|                   0|                   0|                   0|                   0|                   8|                  31|                  e4|\n",
            "|86e0b7f5-7b94-4ae...|      2|           1|       Carlsen,M|      e5|e7e5|         e7|       e5|    P|Black|rnbqkbnr/pppp1ppp...|       0|            0|             0|                     0|           0|                       0|         16|         16|               8|               8|                1|                1|                 2|                 2|                 2|                 2|               2|               2|                       0|                       0|                   8|                   7|                   0|                   1|                   0|                   0|                   0|                   0|                  31|                   7|                   0|                   1|                   0|                   0|                   0|                   0|                   0|                   0|                   0|                   0|                   1|                   0|                   7|                   8|                   0|                   0|                   0|                   0|                   1|                   0|                   7|                  31|               e4|e5|\n",
            "|86e0b7f5-7b94-4ae...|      3|           2|Nepomniachtchi,I|     Nf3|g1f3|         g1|       f3|    N|White|rnbqkbnr/pppp1ppp...|       0|            0|             0|                     0|           0|                       0|         16|         16|               8|               8|                1|                1|                 2|                 2|                 2|                 2|               2|               2|                       0|                       0|                   7|                   7|                   1|                   1|                   0|                   0|                   0|                   0|                  28|                   7|                   3|                   1|                   0|                   0|                   0|                   0|                   0|                   0|                   0|                   0|                   1|                   0|                   7|                   8|                   0|                   0|                   0|                   0|                   1|                   0|                   7|                  31|           e4|e5|Nf3|\n",
            "|86e0b7f5-7b94-4ae...|      4|           2|       Carlsen,M|     Nc6|b8c6|         b8|       c6|    N|Black|r1bqkbnr/pppp1ppp...|       0|            0|             0|                     0|           0|                       0|         16|         16|               8|               8|                1|                1|                 2|                 2|                 2|                 2|               2|               2|                       0|                       0|                   7|                   7|                   1|                   1|                   0|                   0|                   0|                   0|                  28|                   7|                   3|                   1|                   0|                   0|                   0|                   0|                   0|                   0|                   0|                   0|                   1|                   1|                   7|                   7|                   0|                   0|                   0|                   0|                   1|                   3|                   7|                  28|       e4|e5|Nf3|Nc6|\n",
            "|86e0b7f5-7b94-4ae...|      5|           3|Nepomniachtchi,I|     Bb5|f1b5|         f1|       b5|    B|White|r1bqkbnr/pppp1ppp...|       0|            0|             0|                     0|           0|                       0|         16|         16|               8|               8|                1|                1|                 2|                 2|                 2|                 2|               2|               2|                       0|                       0|                   6|                   7|                   1|                   1|                   1|                   0|                   0|                   0|                  25|                   7|                   3|                   1|                   3|                   0|                   0|                   0|                   0|                   0|                   0|                   0|                   1|                   1|                   7|                   7|                   0|                   0|                   0|                   0|                   1|                   3|                   7|                  28|   e4|e5|Nf3|Nc6|Bb5|\n",
            "|86e0b7f5-7b94-4ae...|      6|           3|       Carlsen,M|      a6|a7a6|         a7|       a6|    P|Black|r1bqkbnr/1ppp1ppp...|       0|            0|             0|                     0|           0|                       0|         16|         16|               8|               8|                1|                1|                 2|                 2|                 2|                 2|               2|               2|                       0|                       0|                   6|                   7|                   1|                   1|                   1|                   0|                   0|                   0|                  25|                   7|                   3|                   1|                   3|                   0|                   0|                   0|                   0|                   0|                   0|                   0|                   1|                   2|                   6|                   7|                   0|                   0|                   0|                   0|                   1|                   4|                   6|                  28|e4|e5|Nf3|Nc6|Bb5|a6|\n",
            "|86e0b7f5-7b94-4ae...|      7|           4|Nepomniachtchi,I|     Ba4|b5a4|         b5|       a4|    B|White|r1bqkbnr/1ppp1ppp...|       0|            0|             0|                     0|           0|                       0|         16|         16|               8|               8|                1|                1|                 2|                 2|                 2|                 2|               2|               2|                       0|                       0|                   6|                   7|                   1|                   2|                   0|                   0|                   0|                   0|                  25|                   7|                   3|                   4|                   0|                   0|                   0|                   0|                   0|                   0|                   0|                   0|                   1|                   2|                   6|                   7|                   0|                   0|                   0|                   0|                   1|                   4|                   6|                  28|e4|e5|Nf3|Nc6|Bb5...|\n",
            "|86e0b7f5-7b94-4ae...|      8|           4|       Carlsen,M|     Nf6|g8f6|         g8|       f6|    N|Black|r1bqkb1r/1ppp1ppp...|       0|            0|             0|                     0|           0|                       0|         16|         16|               8|               8|                1|                1|                 2|                 2|                 2|                 2|               2|               2|                       0|                       0|                   6|                   7|                   1|                   2|                   0|                   0|                   0|                   0|                  25|                   7|                   3|                   4|                   0|                   0|                   0|                   0|                   0|                   0|                   0|                   0|                   1|                   3|                   6|                   6|                   0|                   0|                   0|                   0|                   1|                   7|                   6|                  25|e4|e5|Nf3|Nc6|Bb5...|\n",
            "|86e0b7f5-7b94-4ae...|      9|           5|Nepomniachtchi,I|     O-O|e1g1|         e1|       g1|    K|White|r1bqkb1r/1ppp1ppp...|       0|            0|             0|                     0|           0|                       0|         16|         16|               8|               8|                1|                1|                 2|                 2|                 2|                 2|               2|               2|                       0|                       0|                   6|                   7|                   1|                   2|                   0|                   0|                   0|                   0|                  25|                   7|                   3|                   4|                   0|                   0|                   0|                   0|                   0|                   0|                   0|                   0|                   1|                   3|                   6|                   6|                   0|                   0|                   0|                   0|                   1|                   7|                   6|                  25|e4|e5|Nf3|Nc6|Bb5...|\n",
            "|86e0b7f5-7b94-4ae...|     10|           5|       Carlsen,M|     Be7|f8e7|         f8|       e7|    B|Black|r1bqk2r/1pppbppp/...|       0|            0|             0|                     0|           0|                       0|         16|         16|               8|               8|                1|                1|                 2|                 2|                 2|                 2|               2|               2|                       0|                       0|                   6|                   7|                   1|                   2|                   0|                   0|                   0|                   0|                  25|                   7|                   3|                   4|                   0|                   0|                   0|                   0|                   0|                   0|                   0|                   0|                   1|                   3|                   7|                   5|                   0|                   0|                   0|                   0|                   1|                   7|                   9|                  22|e4|e5|Nf3|Nc6|Bb5...|\n",
            "|86e0b7f5-7b94-4ae...|     11|           6|Nepomniachtchi,I|     Re1|f1e1|         f1|       e1|    R|White|r1bqk2r/1pppbppp/...|       0|            0|             0|                     0|           0|                       0|         16|         16|               8|               8|                1|                1|                 2|                 2|                 2|                 2|               2|               2|                       0|                       0|                   6|                   7|                   1|                   2|                   0|                   0|                   0|                   0|                  25|                   7|                   3|                   4|                   0|                   0|                   0|                   0|                   0|                   0|                   0|                   0|                   1|                   3|                   7|                   5|                   0|                   0|                   0|                   0|                   1|                   7|                   9|                  22|e4|e5|Nf3|Nc6|Bb5...|\n",
            "|86e0b7f5-7b94-4ae...|     12|           6|       Carlsen,M|      b5|b7b5|         b7|       b5|    P|Black|r1bqk2r/2ppbppp/p...|       0|            0|             0|                     0|           0|                       0|         16|         16|               8|               8|                1|                1|                 2|                 2|                 2|                 2|               2|               2|                       0|                       0|                   6|                   7|                   1|                   2|                   0|                   0|                   0|                   0|                  25|                   7|                   3|                   4|                   0|                   0|                   0|                   0|                   0|                   0|                   0|                   0|                   2|                   3|                   6|                   5|                   0|                   0|                   0|                   0|                   2|                   7|                   8|                  22|e4|e5|Nf3|Nc6|Bb5...|\n",
            "|86e0b7f5-7b94-4ae...|     13|           7|Nepomniachtchi,I|     Bb3|a4b3|         a4|       b3|    B|White|r1bqk2r/2ppbppp/p...|       0|            0|             0|                     0|           0|                       0|         16|         16|               8|               8|                1|                1|                 2|                 2|                 2|                 2|               2|               2|                       0|                       0|                   6|                   7|                   2|                   1|                   0|                   0|                   0|                   0|                  25|                   7|                   6|                   1|                   0|                   0|                   0|                   0|                   0|                   0|                   0|                   0|                   2|                   3|                   6|                   5|                   0|                   0|                   0|                   0|                   2|                   7|                   8|                  22|e4|e5|Nf3|Nc6|Bb5...|\n",
            "|86e0b7f5-7b94-4ae...|     14|           7|       Carlsen,M|     O-O|e8g8|         e8|       g8|    K|Black|r1bq1rk1/2ppbppp/...|       0|            0|             0|                     0|           0|                       0|         16|         16|               8|               8|                1|                1|                 2|                 2|                 2|                 2|               2|               2|                       0|                       0|                   6|                   7|                   2|                   1|                   0|                   0|                   0|                   0|                  25|                   7|                   6|                   1|                   0|                   0|                   0|                   0|                   0|                   0|                   0|                   0|                   2|                   3|                   6|                   5|                   0|                   0|                   0|                   0|                   2|                   7|                   8|                  22|e4|e5|Nf3|Nc6|Bb5...|\n",
            "|86e0b7f5-7b94-4ae...|     15|           8|Nepomniachtchi,I|      h3|h2h3|         h2|       h3|    P|White|r1bq1rk1/2ppbppp/...|       0|            0|             0|                     0|           0|                       0|         16|         16|               8|               8|                1|                1|                 2|                 2|                 2|                 2|               2|               2|                       0|                       0|                   6|                   6|                   3|                   1|                   0|                   0|                   0|                   0|                  25|                   6|                   7|                   1|                   0|                   0|                   0|                   0|                   0|                   0|                   0|                   0|                   2|                   3|                   6|                   5|                   0|                   0|                   0|                   0|                   2|                   7|                   8|                  22|e4|e5|Nf3|Nc6|Bb5...|\n",
            "|86e0b7f5-7b94-4ae...|     16|           8|       Carlsen,M|     Na5|c6a5|         c6|       a5|    N|Black|r1bq1rk1/2ppbppp/...|       0|            0|             0|                     0|           0|                       0|         16|         16|               8|               8|                1|                1|                 2|                 2|                 2|                 2|               2|               2|                       0|                       0|                   6|                   6|                   3|                   1|                   0|                   0|                   0|                   0|                  25|                   6|                   7|                   1|                   0|                   0|                   0|                   0|                   0|                   0|                   0|                   0|                   3|                   2|                   6|                   5|                   0|                   0|                   0|                   0|                   5|                   4|                   8|                  22|e4|e5|Nf3|Nc6|Bb5...|\n",
            "|86e0b7f5-7b94-4ae...|     17|           9|Nepomniachtchi,I|    Nxe5|f3e5|         f3|       e5|    N|White|r1bq1rk1/2ppbppp/...|       0|            0|             0|                     0|           0|                       0|         16|         15|               8|               7|                1|                1|                 2|                 2|                 2|                 2|               2|               2|                       1|                       0|                   6|                   6|                   2|                   1|                   1|                   0|                   0|                   0|                  25|                   6|                   4|                   1|                   3|                   0|                   0|                   0|                   0|                   0|                   0|                   0|                   2|                   2|                   6|                   5|                   0|                   0|                   0|                   0|                   4|                   4|                   8|                  22|e4|e5|Nf3|Nc6|Bb5...|\n",
            "|86e0b7f5-7b94-4ae...|     18|           9|       Carlsen,M|    Nxb3|a5b3|         a5|       b3|    N|Black|r1bq1rk1/2ppbppp/...|       0|            0|             0|                     0|           0|                       0|         15|         15|               8|               7|                1|                1|                 1|                 2|                 2|                 2|               2|               2|                       1|                       3|                   6|                   6|                   1|                   1|                   1|                   0|                   0|                   0|                  25|                   6|                   1|                   1|                   3|                   0|                   0|                   0|                   0|                   0|                   1|                   0|                   1|                   2|                   6|                   5|                   0|                   0|                   3|                   0|                   1|                   4|                   8|                  22|e4|e5|Nf3|Nc6|Bb5...|\n",
            "|86e0b7f5-7b94-4ae...|     19|          10|Nepomniachtchi,I|    axb3|a2b3|         a2|       b3|    P|White|r1bq1rk1/2ppbppp/...|       0|            0|             0|                     0|           0|                       0|         15|         14|               8|               7|                1|                1|                 1|                 2|                 2|                 1|               2|               2|                       4|                       3|                   6|                   5|                   2|                   1|                   1|                   0|                   0|                   0|                  25|                   5|                   2|                   1|                   3|                   0|                   0|                   0|                   0|                   0|                   0|                   0|                   1|                   2|                   6|                   5|                   0|                   0|                   0|                   0|                   1|                   4|                   8|                  22|e4|e5|Nf3|Nc6|Bb5...|\n",
            "|86e0b7f5-7b94-4ae...|     20|          10|       Carlsen,M|     Bb7|c8b7|         c8|       b7|    B|Black|r2q1rk1/1bppbppp/...|       0|            0|             0|                     0|           0|                       0|         15|         14|               8|               7|                1|                1|                 1|                 2|                 2|                 1|               2|               2|                       4|                       3|                   6|                   5|                   2|                   1|                   1|                   0|                   0|                   0|                  25|                   5|                   2|                   1|                   3|                   0|                   0|                   0|                   0|                   0|                   0|                   0|                   1|                   2|                   7|                   4|                   0|                   0|                   0|                   0|                   1|                   4|                  11|                  19|e4|e5|Nf3|Nc6|Bb5...|\n",
            "+--------------------+-------+------------+----------------+--------+----+-----------+---------+-----+-----+--------------------+--------+-------------+--------------+----------------------+------------+------------------------+-----------+-----------+----------------+----------------+-----------------+-----------------+------------------+------------------+------------------+------------------+----------------+----------------+------------------------+------------------------+--------------------+--------------------+--------------------+--------------------+--------------------+--------------------+--------------------+--------------------+--------------------+--------------------+--------------------+--------------------+--------------------+--------------------+--------------------+--------------------+--------------------+--------------------+--------------------+--------------------+--------------------+--------------------+--------------------+--------------------+--------------------+--------------------+--------------------+--------------------+--------------------+--------------------+--------------------+--------------------+--------------------+\n",
            "only showing top 20 rows\n",
            "\n"
          ]
        }
      ]
    },
    {
      "cell_type": "code",
      "source": [
        "moves.count()"
      ],
      "metadata": {
        "colab": {
          "base_uri": "https://localhost:8080/"
        },
        "id": "KcyXWgtWumZU",
        "outputId": "47edb6f2-ef54-4465-be46-9539710eb30b"
      },
      "execution_count": 15,
      "outputs": [
        {
          "output_type": "execute_result",
          "data": {
            "text/plain": [
              "252948"
            ]
          },
          "metadata": {},
          "execution_count": 15
        }
      ]
    },
    {
      "cell_type": "code",
      "source": [
        "# file 3 - chess_wc_history_game_info:\n",
        "info = spark.read.format(\"csv\").option(\"header\", True).option(\"inferSchema\", True).load(\"/content/chess/chess_wc_history_game_info.csv\")"
      ],
      "metadata": {
        "id": "NI9ori6Nu0F1"
      },
      "execution_count": 16,
      "outputs": []
    },
    {
      "cell_type": "code",
      "source": [
        "info.show()"
      ],
      "metadata": {
        "colab": {
          "base_uri": "https://localhost:8080/"
        },
        "id": "TNUqFFM7vFoM",
        "outputId": "ca785f94-be0a-47cb-d8ed-c7dd07a14e7f"
      },
      "execution_count": 17,
      "outputs": [
        {
          "output_type": "stream",
          "name": "stdout",
          "text": [
            "+--------------------+----------+--------+----------+-----------+-----+----------------+----------------+-------+---------+---------+-----------+-----------+---------+----------+----------------+---------+---------------------+---+--------------------+---------------+\n",
            "|             game_id|game_order|   event|      site|date_played|round|           white|           black| result|white_elo|black_elo|white_title|black_title|   winner|winner_elo|           loser|loser_elo|winner_loser_elo_diff|eco|        date_created|tournament_name|\n",
            "+--------------------+----------+--------+----------+-----------+-----+----------------+----------------+-------+---------+---------+-----------+-----------+---------+----------+----------------+---------+---------------------+---+--------------------+---------------+\n",
            "|86e0b7f5-7b94-4ae...|         1|WCh 2021| Dubai UAE| 2021.11.26|  1.0|Nepomniachtchi,I|       Carlsen,M|1/2-1/2|     2782|     2855|       null|       null|     draw|      null|            draw|     null|                    0|C88|2022-07-22T22:33:...| WorldChamp2021|\n",
            "|dc4a10ab-54cf-49d...|         2|WCh 2021| Dubai UAE| 2021.11.27|  2.0|       Carlsen,M|Nepomniachtchi,I|1/2-1/2|     2855|     2782|       null|       null|     draw|      null|            draw|     null|                    0|E06|2022-07-22T22:33:...| WorldChamp2021|\n",
            "|f042ca37-8899-488...|         3|WCh 2021| Dubai UAE| 2021.11.28|  3.0|Nepomniachtchi,I|       Carlsen,M|1/2-1/2|     2782|     2855|       null|       null|     draw|      null|            draw|     null|                    0|C88|2022-07-22T22:33:...| WorldChamp2021|\n",
            "|f70e4bbc-21e3-46f...|         4|WCh 2021| Dubai UAE| 2021.11.30|  4.0|       Carlsen,M|Nepomniachtchi,I|1/2-1/2|     2855|     2782|       null|       null|     draw|      null|            draw|     null|                    0|C42|2022-07-22T22:33:...| WorldChamp2021|\n",
            "|c941c323-308a-4c8...|         5|WCh 2021| Dubai UAE| 2021.12.01|  5.0|Nepomniachtchi,I|       Carlsen,M|1/2-1/2|     2782|     2855|       null|       null|     draw|      null|            draw|     null|                    0|C88|2022-07-22T22:33:...| WorldChamp2021|\n",
            "|58e83255-93bb-4d5...|         6|WCh 2021| Dubai UAE| 2021.12.03|  6.0|       Carlsen,M|Nepomniachtchi,I|    1-0|     2855|     2782|       null|       null|Carlsen,M|      2855|Nepomniachtchi,I|     2782|                   73|D02|2022-07-22T22:33:...| WorldChamp2021|\n",
            "|29181d93-73f4-4fb...|         7|WCh 2021| Dubai UAE| 2021.12.04|  7.0|Nepomniachtchi,I|       Carlsen,M|1/2-1/2|     2782|     2855|       null|       null|     draw|      null|            draw|     null|                    0|C88|2022-07-22T22:33:...| WorldChamp2021|\n",
            "|8a4ccd8c-d437-429...|         8|WCh 2021| Dubai UAE| 2021.12.05|  8.0|       Carlsen,M|Nepomniachtchi,I|    1-0|     2855|     2782|       null|       null|Carlsen,M|      2855|Nepomniachtchi,I|     2782|                   73|C43|2022-07-22T22:33:...| WorldChamp2021|\n",
            "|55a122db-27d1-495...|         9|WCh 2021| Dubai UAE| 2021.12.07|  9.0|Nepomniachtchi,I|       Carlsen,M|    0-1|     2782|     2855|       null|       null|Carlsen,M|      2855|Nepomniachtchi,I|     2782|                   73|A13|2022-07-22T22:33:...| WorldChamp2021|\n",
            "|1f900d18-5ea3-4f4...|        10|WCh 2021| Dubai UAE| 2021.12.08| 10.0|       Carlsen,M|Nepomniachtchi,I|1/2-1/2|     2855|     2782|       null|       null|     draw|      null|            draw|     null|                    0|C42|2022-07-22T22:33:...| WorldChamp2021|\n",
            "|c512a953-a341-47c...|        11|WCh 2021| Dubai UAE| 2021.12.10| 11.0|Nepomniachtchi,I|       Carlsen,M|    0-1|     2782|     2855|       null|       null|Carlsen,M|      2855|Nepomniachtchi,I|     2782|                   73|C50|2022-07-22T22:33:...| WorldChamp2021|\n",
            "|99d39a93-427e-4d1...|         1|WCh 2018|London ENG| 2018.11.09|  1.0|Caruana, Fabiano| Carlsen, Magnus|1/2-1/2|     2832|     2835|         GM|         GM|     draw|      null|            draw|     null|                    0|B31|2022-07-22T22:33:...| WorldChamp2018|\n",
            "|c87ceb3e-67a7-45d...|         2|WCh 2018|London ENG| 2018.11.10|  2.0| Carlsen, Magnus|Caruana, Fabiano|1/2-1/2|     2835|     2832|         GM|         GM|     draw|      null|            draw|     null|                    0|D37|2022-07-22T22:33:...| WorldChamp2018|\n",
            "|d50510ea-9c1a-460...|         3|WCh 2018|London ENG| 2018.11.12|  3.0|Caruana, Fabiano| Carlsen, Magnus|1/2-1/2|     2832|     2835|         GM|         GM|     draw|      null|            draw|     null|                    0|B31|2022-07-22T22:33:...| WorldChamp2018|\n",
            "|e899e16a-281e-41b...|         4|WCh 2018|London ENG| 2018.11.13|  4.0| Carlsen, Magnus|Caruana, Fabiano|1/2-1/2|     2835|     2832|         GM|         GM|     draw|      null|            draw|     null|                    0|A29|2022-07-22T22:33:...| WorldChamp2018|\n",
            "|59f8da88-fd21-405...|         5|WCh 2018|London ENG| 2018.11.15|  5.0|Caruana, Fabiano| Carlsen, Magnus|1/2-1/2|     2832|     2835|         GM|         GM|     draw|      null|            draw|     null|                    0|B31|2022-07-22T22:33:...| WorldChamp2018|\n",
            "|6dcc4b46-3155-47e...|         6|WCh 2018|London ENG| 2018.11.16|  6.0| Carlsen, Magnus|Caruana, Fabiano|1/2-1/2|     2835|     2832|         GM|         GM|     draw|      null|            draw|     null|                    0|C42|2022-07-22T22:33:...| WorldChamp2018|\n",
            "|c0c727cf-03ec-4b4...|         7|WCh 2018|London ENG| 2018.11.18|  7.0| Carlsen, Magnus|Caruana, Fabiano|1/2-1/2|     2835|     2832|         GM|         GM|     draw|      null|            draw|     null|                    0|D37|2022-07-22T22:33:...| WorldChamp2018|\n",
            "|4c14e044-cacc-405...|         8|WCh 2018|London ENG| 2018.11.19|  8.0|Caruana, Fabiano| Carlsen, Magnus|1/2-1/2|     2832|     2835|         GM|         GM|     draw|      null|            draw|     null|                    0|B33|2022-07-22T22:33:...| WorldChamp2018|\n",
            "|3f4eb26e-3cd1-43b...|         9|WCh 2018|London ENG| 2018.11.21|  9.0| Carlsen, Magnus|Caruana, Fabiano|1/2-1/2|     2835|     2832|         GM|         GM|     draw|      null|            draw|     null|                    0|A29|2022-07-22T22:33:...| WorldChamp2018|\n",
            "+--------------------+----------+--------+----------+-----------+-----+----------------+----------------+-------+---------+---------+-----------+-----------+---------+----------+----------------+---------+---------------------+---+--------------------+---------------+\n",
            "only showing top 20 rows\n",
            "\n"
          ]
        }
      ]
    },
    {
      "cell_type": "code",
      "source": [
        "info.count()"
      ],
      "metadata": {
        "colab": {
          "base_uri": "https://localhost:8080/"
        },
        "id": "cHr8MPS-vH70",
        "outputId": "ee9547cd-748a-42fa-dfd0-39ed0dea208f"
      },
      "execution_count": 18,
      "outputs": [
        {
          "output_type": "execute_result",
          "data": {
            "text/plain": [
              "2938"
            ]
          },
          "metadata": {},
          "execution_count": 18
        }
      ]
    },
    {
      "cell_type": "code",
      "source": [
        "# data type validation\n",
        "eco.printSchema()"
      ],
      "metadata": {
        "colab": {
          "base_uri": "https://localhost:8080/"
        },
        "id": "h6hmz2r-wUI0",
        "outputId": "62336f15-5783-4fb5-de9d-ca29291ab8a6"
      },
      "execution_count": 19,
      "outputs": [
        {
          "output_type": "stream",
          "name": "stdout",
          "text": [
            "root\n",
            " |-- eco: string (nullable = true)\n",
            " |-- eco_name: string (nullable = true)\n",
            " |-- eco_example: string (nullable = true)\n",
            " |-- eco_type: string (nullable = true)\n",
            " |-- eco_group: string (nullable = true)\n",
            "\n"
          ]
        }
      ]
    },
    {
      "cell_type": "code",
      "source": [
        "info.printSchema()"
      ],
      "metadata": {
        "colab": {
          "base_uri": "https://localhost:8080/"
        },
        "id": "Be-_mFjlvR4H",
        "outputId": "36f3e718-8b49-430b-d6e3-eb573813cb3d"
      },
      "execution_count": 20,
      "outputs": [
        {
          "output_type": "stream",
          "name": "stdout",
          "text": [
            "root\n",
            " |-- game_id: string (nullable = true)\n",
            " |-- game_order: integer (nullable = true)\n",
            " |-- event: string (nullable = true)\n",
            " |-- site: string (nullable = true)\n",
            " |-- date_played: string (nullable = true)\n",
            " |-- round: double (nullable = true)\n",
            " |-- white: string (nullable = true)\n",
            " |-- black: string (nullable = true)\n",
            " |-- result: string (nullable = true)\n",
            " |-- white_elo: integer (nullable = true)\n",
            " |-- black_elo: integer (nullable = true)\n",
            " |-- white_title: string (nullable = true)\n",
            " |-- black_title: string (nullable = true)\n",
            " |-- winner: string (nullable = true)\n",
            " |-- winner_elo: integer (nullable = true)\n",
            " |-- loser: string (nullable = true)\n",
            " |-- loser_elo: integer (nullable = true)\n",
            " |-- winner_loser_elo_diff: integer (nullable = true)\n",
            " |-- eco: string (nullable = true)\n",
            " |-- date_created: string (nullable = true)\n",
            " |-- tournament_name: string (nullable = true)\n",
            "\n"
          ]
        }
      ]
    },
    {
      "cell_type": "code",
      "source": [
        "moves.printSchema()"
      ],
      "metadata": {
        "colab": {
          "base_uri": "https://localhost:8080/"
        },
        "id": "VS5PZJHfv4hN",
        "outputId": "84a3d62f-3363-417b-f12d-b03d058d5d1f"
      },
      "execution_count": 21,
      "outputs": [
        {
          "output_type": "stream",
          "name": "stdout",
          "text": [
            "root\n",
            " |-- game_id: string (nullable = true)\n",
            " |-- move_no: integer (nullable = true)\n",
            " |-- move_no_pair: integer (nullable = true)\n",
            " |-- player: string (nullable = true)\n",
            " |-- notation: string (nullable = true)\n",
            " |-- move: string (nullable = true)\n",
            " |-- from_square: string (nullable = true)\n",
            " |-- to_square: string (nullable = true)\n",
            " |-- piece: string (nullable = true)\n",
            " |-- color: string (nullable = true)\n",
            " |-- fen: string (nullable = true)\n",
            " |-- is_check: integer (nullable = true)\n",
            " |-- is_check_mate: integer (nullable = true)\n",
            " |-- is_fifty_moves: integer (nullable = true)\n",
            " |-- is_fivefold_repetition: integer (nullable = true)\n",
            " |-- is_game_over: integer (nullable = true)\n",
            " |-- is_insufficient_material: integer (nullable = true)\n",
            " |-- white_count: integer (nullable = true)\n",
            " |-- black_count: integer (nullable = true)\n",
            " |-- white_pawn_count: integer (nullable = true)\n",
            " |-- black_pawn_count: integer (nullable = true)\n",
            " |-- white_queen_count: integer (nullable = true)\n",
            " |-- black_queen_count: integer (nullable = true)\n",
            " |-- white_bishop_count: integer (nullable = true)\n",
            " |-- black_bishop_count: integer (nullable = true)\n",
            " |-- white_knight_count: integer (nullable = true)\n",
            " |-- black_knight_count: integer (nullable = true)\n",
            " |-- white_rook_count: integer (nullable = true)\n",
            " |-- black_rook_count: integer (nullable = true)\n",
            " |-- captured_score_for_white: integer (nullable = true)\n",
            " |-- captured_score_for_black: integer (nullable = true)\n",
            " |-- fen_row1_white_count: integer (nullable = true)\n",
            " |-- fen_row2_white_count: integer (nullable = true)\n",
            " |-- fen_row3_white_count: integer (nullable = true)\n",
            " |-- fen_row4_white_count: integer (nullable = true)\n",
            " |-- fen_row5_white_count: integer (nullable = true)\n",
            " |-- fen_row6_white_count: integer (nullable = true)\n",
            " |-- fen_row7_white_count: integer (nullable = true)\n",
            " |-- fen_row8_white_count: integer (nullable = true)\n",
            " |-- fen_row1_white_value: integer (nullable = true)\n",
            " |-- fen_row2_white_value: integer (nullable = true)\n",
            " |-- fen_row3_white_value: integer (nullable = true)\n",
            " |-- fen_row4_white_value: integer (nullable = true)\n",
            " |-- fen_row5_white_value: integer (nullable = true)\n",
            " |-- fen_row6_white_value: integer (nullable = true)\n",
            " |-- fen_row7_white_value: integer (nullable = true)\n",
            " |-- fen_row8_white_value: integer (nullable = true)\n",
            " |-- fen_row1_black_count: integer (nullable = true)\n",
            " |-- fen_row2_black_count: integer (nullable = true)\n",
            " |-- fen_row3_black_count: integer (nullable = true)\n",
            " |-- fen_row4_black_count: integer (nullable = true)\n",
            " |-- fen_row5_black_count: integer (nullable = true)\n",
            " |-- fen_row6_black_count: integer (nullable = true)\n",
            " |-- fen_row7_black_count: integer (nullable = true)\n",
            " |-- fen_row8_black_count: integer (nullable = true)\n",
            " |-- fen_row1_black_value: integer (nullable = true)\n",
            " |-- fen_row2_black_value: integer (nullable = true)\n",
            " |-- fen_row3_black_value: integer (nullable = true)\n",
            " |-- fen_row4_black_value: integer (nullable = true)\n",
            " |-- fen_row5_black_value: integer (nullable = true)\n",
            " |-- fen_row6_black_value: integer (nullable = true)\n",
            " |-- fen_row7_black_value: integer (nullable = true)\n",
            " |-- fen_row8_black_value: integer (nullable = true)\n",
            " |-- move_sequence: string (nullable = true)\n",
            "\n"
          ]
        }
      ]
    },
    {
      "cell_type": "code",
      "source": [
        "# creating tables for dataframes\n",
        "eco.createOrReplaceTempView(\"eco\")\n",
        "moves.createOrReplaceTempView(\"moves\")\n",
        "info.createOrReplaceTempView(\"info\")"
      ],
      "metadata": {
        "id": "CZIL8bMJ4U2B"
      },
      "execution_count": 22,
      "outputs": []
    },
    {
      "cell_type": "code",
      "source": [
        "# creating table for world championship records only\n",
        "info2 = spark.sql(\"\"\"select * \n",
        "                     from info \n",
        "                     where event not like '%KO%' \n",
        "                     and event not like '%k.o.%'\"\"\")\n",
        "info2.createOrReplaceTempView(\"info2\")"
      ],
      "metadata": {
        "id": "SjshFtSStWbL"
      },
      "execution_count": 23,
      "outputs": []
    },
    {
      "cell_type": "markdown",
      "source": [
        "## **Section-2 (data analysis):**"
      ],
      "metadata": {
        "id": "J05HXR7tsQpU"
      }
    },
    {
      "cell_type": "code",
      "source": [
        "#1 List of winners of each world champion trophy\n",
        "\n",
        "winners = spark.sql(\"\"\"select winner, tournament_name \n",
        "                       from \n",
        "                           (select tournament_name, winner, wins, \n",
        "                            rank() over (partition by tournament_name order by wins desc) as rank \n",
        "                            from \n",
        "                                (select tournament_name, winner, count(game_id) as wins \n",
        "                                 from info \n",
        "                                 where event not like '%k.o.%' and event not like '%KO%' \n",
        "                                 and winner != 'draw' \n",
        "                                 group by tournament_name, winner \n",
        "                                 order by tournament_name)) \n",
        "                       where rank = 1\"\"\")\n",
        "d1 = winners\n",
        "d1.show()"
      ],
      "metadata": {
        "colab": {
          "base_uri": "https://localhost:8080/"
        },
        "id": "l21MJ1OPdEFx",
        "outputId": "5b72cd51-0f69-4816-8817-0935bd9d525f"
      },
      "execution_count": 24,
      "outputs": [
        {
          "output_type": "stream",
          "name": "stdout",
          "text": [
            "+--------------------+---------------+\n",
            "|              winner|tournament_name|\n",
            "+--------------------+---------------+\n",
            "|     Karpov, Anatoly|  FideChamp1993|\n",
            "|     Karpov, Anatoly|  FideChamp1996|\n",
            "|           Topalov,V|  FideChamp2005|\n",
            "|      Kasparov, Gary|   PCAChamp1993|\n",
            "|      Kasparov, Gary|   PCAChamp1995|\n",
            "|   Steinitz, William| WorldChamp1886|\n",
            "|   Steinitz, William| WorldChamp1889|\n",
            "|   Steinitz, William| WorldChamp1890|\n",
            "|   Steinitz, William| WorldChamp1892|\n",
            "|     Lasker, Emanuel| WorldChamp1894|\n",
            "|     Lasker, Emanuel| WorldChamp1896|\n",
            "|     Lasker, Emanuel| WorldChamp1907|\n",
            "|     Lasker, Emanuel| WorldChamp1908|\n",
            "|     Lasker, Emanuel| WorldChamp1909|\n",
            "|    Schlechter, Carl|WorldChamp1910a|\n",
            "|     Lasker, Emanuel|WorldChamp1910a|\n",
            "|     Lasker, Emanuel|WorldChamp1910b|\n",
            "|Capablanca, Jose ...| WorldChamp1921|\n",
            "| Alekhine, Alexander| WorldChamp1927|\n",
            "| Alekhine, Alexander| WorldChamp1929|\n",
            "+--------------------+---------------+\n",
            "only showing top 20 rows\n",
            "\n"
          ]
        }
      ]
    },
    {
      "cell_type": "code",
      "source": [
        "#2 Number of times a player has won the world champions trophy\n",
        "\n",
        "winners.createOrReplaceTempView(\"winners\")"
      ],
      "metadata": {
        "id": "SNvHO4c8mb4T"
      },
      "execution_count": 25,
      "outputs": []
    },
    {
      "cell_type": "code",
      "source": [
        "d2 = spark.sql(\"\"\"select winner as player_name, count(tournament_name) as number_of_wins \n",
        "             from winners \n",
        "             group by winner \n",
        "             order by count(tournament_name) desc\"\"\")\n",
        "d2.show(truncate = False)"
      ],
      "metadata": {
        "colab": {
          "base_uri": "https://localhost:8080/"
        },
        "id": "ymdLZZdynzWb",
        "outputId": "f271935b-b8b3-4512-c6cd-4d831346c117"
      },
      "execution_count": 26,
      "outputs": [
        {
          "output_type": "stream",
          "name": "stdout",
          "text": [
            "+---------------------+--------------+\n",
            "|player_name          |number_of_wins|\n",
            "+---------------------+--------------+\n",
            "|Lasker, Emanuel      |7             |\n",
            "|Kasparov, Gary       |6             |\n",
            "|Karpov, Anatoly      |6             |\n",
            "|Botvinnik, Mikhail   |5             |\n",
            "|Steinitz, William    |4             |\n",
            "|Alekhine, Alexander  |4             |\n",
            "|Anand,V              |4             |\n",
            "|Kramnik,V            |3             |\n",
            "|Carlsen, Magnus      |3             |\n",
            "|Smyslov, Vassily     |2             |\n",
            "|Petrosian, Tigran V  |2             |\n",
            "|Gelfand,B            |1             |\n",
            "|Anand, Viswanathan   |1             |\n",
            "|Leko,P               |1             |\n",
            "|Topalov,V            |1             |\n",
            "|Spassky, Boris V     |1             |\n",
            "|Bronstein, David I   |1             |\n",
            "|Fischer, Robert James|1             |\n",
            "|Capablanca, Jose Raul|1             |\n",
            "|Tal, Mihail          |1             |\n",
            "+---------------------+--------------+\n",
            "only showing top 20 rows\n",
            "\n"
          ]
        }
      ]
    },
    {
      "cell_type": "code",
      "source": [
        "#3 Most and least popular eco moves in world championship history\n",
        "d3 = spark.sql(\"\"\"(select t2.eco, t2.eco_name, count(game_id) as number_of_occurences \n",
        "              from info2 t1 join eco t2 \n",
        "              on t1.eco=t2.eco \n",
        "              group by t2.eco, t2.eco_name \n",
        "              order by number_of_occurences desc limit 1) \n",
        "              union \n",
        "             (select t2.eco, t2.eco_name, count(game_id) as number_of_occurences \n",
        "              from info2 t1 join eco t2 \n",
        "              on t1.eco=t2.eco \n",
        "              group by t2.eco, t2.eco_name \n",
        "              order by number_of_occurences limit 1)\"\"\")\n",
        "d3.show(truncate = False)"
      ],
      "metadata": {
        "colab": {
          "base_uri": "https://localhost:8080/"
        },
        "id": "7-uUxEdvpcb4",
        "outputId": "b367622b-40e1-4be4-ccdb-8aeb05df4022"
      },
      "execution_count": 27,
      "outputs": [
        {
          "output_type": "stream",
          "name": "stdout",
          "text": [
            "+---+------------------------------------+--------------------+\n",
            "|eco|eco_name                            |number_of_occurences|\n",
            "+---+------------------------------------+--------------------+\n",
            "|C99|Ruy Lopez, Closed, Chigorin, 12...cd|1                   |\n",
            "|C42|Petrov Defense                      |26                  |\n",
            "+---+------------------------------------+--------------------+\n",
            "\n"
          ]
        }
      ]
    },
    {
      "cell_type": "code",
      "source": [
        "#4 Eco move with the most winnings\n",
        "d4 = spark.sql(\"\"\"select t2.eco, t2.eco_name \n",
        "             from info2 t1 join eco t2 \n",
        "             on t1.eco=t2.eco \n",
        "             where winner != 'draw' \n",
        "             group by t2.eco, t2.eco_name \n",
        "             order by count(winner) desc limit 1\"\"\")\n",
        "d4.show()"
      ],
      "metadata": {
        "colab": {
          "base_uri": "https://localhost:8080/"
        },
        "id": "M9njzbRDuwhV",
        "outputId": "85e5ada2-c4e3-4295-8b2c-e1ef03fa7276"
      },
      "execution_count": 28,
      "outputs": [
        {
          "output_type": "stream",
          "name": "stdout",
          "text": [
            "+---+------------+\n",
            "|eco|    eco_name|\n",
            "+---+------------+\n",
            "|C52|Evans Gambit|\n",
            "+---+------------+\n",
            "\n"
          ]
        }
      ]
    },
    {
      "cell_type": "code",
      "source": [
        "#5 Longest and shortest game ever played in a world championship in terms of move.\n",
        "d5 = spark.sql(\"\"\"(select t1.game_id, t1.event, t1.tournament_name, \n",
        "              max(move_no_pair) as number_of_moves \n",
        "              from info2 t1 join moves t2 \n",
        "              on t1.game_id=t2.game_id \n",
        "              group by t1.game_id, t1.event, t1.tournament_name \n",
        "              order by max(move_no_pair) desc limit 1) \n",
        "              union \n",
        "             (select t1.game_id, t1.event, t1.tournament_name, \n",
        "              max(move_no_pair) as number_of_moves \n",
        "              from info2 t1 join moves t2 \n",
        "              on t1.game_id=t2.game_id \n",
        "              group by t1.game_id, t1.event, t1.tournament_name \n",
        "              order by max(move_no_pair) limit 1)\"\"\")\n",
        "d5.show(truncate = False)"
      ],
      "metadata": {
        "id": "LT19_COW8DQB",
        "colab": {
          "base_uri": "https://localhost:8080/"
        },
        "outputId": "2220fc2e-f70f-42ee-c213-3c2c17c89447"
      },
      "execution_count": 29,
      "outputs": [
        {
          "output_type": "stream",
          "name": "stdout",
          "text": [
            "+------------------------------------+-----------------------+---------------+---------------+\n",
            "|game_id                             |event                  |tournament_name|number_of_moves|\n",
            "+------------------------------------+-----------------------+---------------+---------------+\n",
            "|58e83255-93bb-4d58-8c14-78a991419338|WCh 2021               |WorldChamp2021 |136            |\n",
            "|1846cede-0037-4f04-9dc2-bf948cf08d72|World Championship 28th|WorldChamp1972 |1              |\n",
            "+------------------------------------+-----------------------+---------------+---------------+\n",
            "\n"
          ]
        }
      ]
    },
    {
      "cell_type": "code",
      "source": [
        "#6 Shortest and Longest Draw game ever Played.\n",
        "d6 = spark.sql(\"\"\"(select t1.game_id, t1.event, t1.tournament_name, \n",
        "              max(move_no_pair) as number_of_moves \n",
        "              from info2 t1 join moves t2 \n",
        "              on t1.game_id=t2.game_id \n",
        "              where t1.winner = 'draw' \n",
        "              group by t1.game_id, t1.event, t1.tournament_name \n",
        "              order by max(move_no_pair) desc limit 1) \n",
        "              union \n",
        "             (select t1.game_id, t1.event, t1.tournament_name, \n",
        "              max(move_no_pair) as number_of_moves \n",
        "              from info2 t1 join moves t2 \n",
        "              on t1.game_id=t2.game_id \n",
        "              where t1.winner = 'draw' \n",
        "              group by t1.game_id, t1.event, t1.tournament_name \n",
        "              order by max(move_no_pair) limit 1)\"\"\")\n",
        "d6.show(truncate = False)"
      ],
      "metadata": {
        "colab": {
          "base_uri": "https://localhost:8080/"
        },
        "id": "z6Ys1Z5MbUNR",
        "outputId": "1a7bcb7c-6ee5-4725-d6f4-80441e639919"
      },
      "execution_count": 30,
      "outputs": [
        {
          "output_type": "stream",
          "name": "stdout",
          "text": [
            "+------------------------------------+-----------------------+---------------+---------------+\n",
            "|game_id                             |event                  |tournament_name|number_of_moves|\n",
            "+------------------------------------+-----------------------+---------------+---------------+\n",
            "|be611b90-465d-4cd3-b539-1039940ad074|World Championship 25th|WorldChamp1963 |10             |\n",
            "|bf66c982-f6c5-4e73-9b18-e3f721326d74|World Championship 29th|WorldChamp1978 |124            |\n",
            "+------------------------------------+-----------------------+---------------+---------------+\n",
            "\n"
          ]
        }
      ]
    },
    {
      "cell_type": "code",
      "source": [
        "#7 Most and Least rated Player(in world championships)\n",
        "d7 = spark.sql(\"\"\"(select winner, max(winner_elo) \n",
        "              from info2 \n",
        "              group by winner \n",
        "              order by max(winner_elo) desc limit 1) \n",
        "              union \n",
        "             (select winner, min(loser_elo) \n",
        "              from info2 \n",
        "              where loser_elo > 0 \n",
        "              group by winner \n",
        "              order by min(loser_elo) limit 1)\"\"\")\n",
        "d7.show()"
      ],
      "metadata": {
        "colab": {
          "base_uri": "https://localhost:8080/"
        },
        "id": "dixrJvJacpHD",
        "outputId": "19789a46-5882-4734-8a1b-481dbaec2df0"
      },
      "execution_count": 31,
      "outputs": [
        {
          "output_type": "stream",
          "name": "stdout",
          "text": [
            "+---------------+---------------+\n",
            "|         winner|max(winner_elo)|\n",
            "+---------------+---------------+\n",
            "|Carlsen, Magnus|           2870|\n",
            "|Karpov, Anatoly|           2620|\n",
            "+---------------+---------------+\n",
            "\n"
          ]
        }
      ]
    },
    {
      "cell_type": "code",
      "source": [
        "#8 Third last player with most loss\n",
        "d8 = spark.sql(\"\"\"select loser as player_name \n",
        "             from \n",
        "                 (select loser, count(game_id) as no \n",
        "                  from info2 \n",
        "                  where loser != 'draw' \n",
        "                  group by loser \n",
        "                  order by count(game_id) desc limit 3) \n",
        "             order by no limit 1\"\"\")\n",
        "d8.show()"
      ],
      "metadata": {
        "colab": {
          "base_uri": "https://localhost:8080/"
        },
        "id": "OLu2QoTTc6qB",
        "outputId": "0ffd5db1-fab9-4997-975e-224a8ab9b19b"
      },
      "execution_count": 32,
      "outputs": [
        {
          "output_type": "stream",
          "name": "stdout",
          "text": [
            "+---------------+\n",
            "|    player_name|\n",
            "+---------------+\n",
            "|Karpov, Anatoly|\n",
            "+---------------+\n",
            "\n"
          ]
        }
      ]
    },
    {
      "cell_type": "code",
      "source": [
        "#9 Number of times players with low rating won matches with their total win Count\n",
        "d9 = spark.sql(\"\"\"select winner, count(player) \n",
        "             from \n",
        "                 (select white, black, white_elo, black_elo, winner, \n",
        "                  case when white_elo > black_elo then black else white end as player \n",
        "                  from info2 where winner_elo !=0) \n",
        "             where player = winner \n",
        "             group by winner \n",
        "             order by count(player) desc\"\"\")\n",
        "d9.show()"
      ],
      "metadata": {
        "colab": {
          "base_uri": "https://localhost:8080/"
        },
        "id": "Lsecbxpvf4lZ",
        "outputId": "fa0ce750-3700-415e-90b5-4893e9504113"
      },
      "execution_count": 33,
      "outputs": [
        {
          "output_type": "stream",
          "name": "stdout",
          "text": [
            "+------------------+-------------+\n",
            "|            winner|count(player)|\n",
            "+------------------+-------------+\n",
            "|   Karpov, Anatoly|           16|\n",
            "|Kortschnoj, Viktor|            8|\n",
            "|         Kramnik,V|            8|\n",
            "|    Kasparov, Gary|            5|\n",
            "|         Gelfand,B|            4|\n",
            "|  Spassky, Boris V|            3|\n",
            "|      Kamsky, Gata|            3|\n",
            "|            Leko,P|            3|\n",
            "|      Morozevich,A|            3|\n",
            "|           Anand,V|            3|\n",
            "|    Kasimdzhanov,R|            2|\n",
            "|     Timman, Jan H|            2|\n",
            "|Anand, Viswanathan|            2|\n",
            "|        Grischuk,A|            2|\n",
            "|    Short, Nigel D|            1|\n",
            "|  Karjakin, Sergey|            1|\n",
            "|         Svidler,P|            1|\n",
            "|         Aronian,L|            1|\n",
            "+------------------+-------------+\n",
            "\n"
          ]
        }
      ]
    },
    {
      "cell_type": "code",
      "source": [
        "#10  Move Sequence for Each Player in a Match\n",
        "d10 = spark.sql(\"\"\"select game_id, player, move_sequence, \n",
        "             final_move as move_count\n",
        "             from\n",
        "                 (select game_id, player, move_sequence, move_no_pair,\n",
        "                  max(move_no_pair) over(partition by game_id) as final_move\n",
        "                  from moves)\n",
        "             where move_no_pair = final_move\n",
        "             order by game_id\"\"\")\n",
        "d10.show(truncate = False)"
      ],
      "metadata": {
        "colab": {
          "base_uri": "https://localhost:8080/"
        },
        "id": "8dJXjJ43VGwM",
        "outputId": "04f644f1-535b-4553-f3bc-8d2e6c6a1798"
      },
      "execution_count": 34,
      "outputs": [
        {
          "output_type": "stream",
          "name": "stdout",
          "text": [
            "+------------------------------------+----------------------+-----------------------------------------------------------------------------------------------------------------------------------------------------------------------------------------------------------------------------------------------------------------------------------------------------------------------------------------------------------------------------------------------------------------------------------------------------------------------------------------------------------------------------------------------------------------------------------------------------------------------+----------+\n",
            "|game_id                             |player                |move_sequence                                                                                                                                                                                                                                                                                                                                                                                                                                                                                                                                                                                                          |move_count|\n",
            "+------------------------------------+----------------------+-----------------------------------------------------------------------------------------------------------------------------------------------------------------------------------------------------------------------------------------------------------------------------------------------------------------------------------------------------------------------------------------------------------------------------------------------------------------------------------------------------------------------------------------------------------------------------------------------------------------------+----------+\n",
            "|0028cc2e-5aaa-4645-a8e9-4d6b51c8f9db|Khalifman,A           |d4|Nf6|Nf3|g6|c4|Bg7|Nc3|d5|Qb3|dxc4|Qxc4|O-O|e4|a6|Be2|b5|Qb3|c5|dxc5|Bb7|O-O|Nxe4|Nxe4|Bxe4|Bg5|Nc6|Qe3|Qd5|Rad1|Qe6|Bh6|Bc2|Rd2                                                                                                                                                                                                                                                                                                                                                                                                                                                                                     |17        |\n",
            "|00563036-1aa1-42cc-84d0-bd95562cdb52|Azmaiparashvili, Zurab|e4|c5|c3|Nf6|e5|Nd5|g3|Nc6|Bg2|Qc7|f4|e6|Na3|Be7|Ne2|O-O|O-O|a6|d3|b6|c4|Ndb4|Nb1|a5|Nbc3|Bb7|a3|Na6|Ne4|Nd4|Be3|Nf5|Bf2|d5|exd6|Nxd6|N2c3|Rad8|Qe2|Nf5|g4|Nd4|Bxd4|cxd4|Nb5|Qd7|b4|f5|Ng3|Bxg2|Kxg2|Rfe8|Rfe1|Bf8|Kg1|g6|Qf3|axb4|axb4|Nxb4|Ra7|Qc6|Qe2|Rd7|Rxd7|Qxd7|gxf5|gxf5|Nxf5|Nxd3|Qxd3|exf5|Rxe8|Qxe8|Qxf5|Qe1+|Kg2|Qe2+|Kg3|Qxc4|Qg5+|Kh8|Qf6+|Bg7|Qxb6|Qg8|Kf2|Qa2+|Kg3                                                                                                                                                                                                                                     |45        |\n",
            "|0059d5cb-2af8-48f7-91df-18cc6794d176|Anastasian,A          |d4|d5|c4|c6|Nf3|Nf6|Qb3|e6|Nc3|Nbd7|Bg5|Qa5|cxd5|exd5|e3|Ne4|Bd3|Nxg5|Nxg5|Qd8|f4|Qe7|Kf2|h6|Nf3|Qb4|Qc2|Be7|a3|Qd6|Rhf1|O-O|Kg1|c5|Rad1|Nf6|Ne5|cxd4|exd4|Bd7|h3|Bd8|g4|Bb6|Qf2|Bc6|Kg2|Rad8|Rfe1|Rfe8|Bb1|Ne4|Qf3|Qc7|Nxc6|Qxc6|Nxe4|dxe4|Rxe4|Rxe4|Qxe4                                                                                                                                                                                                                                                                                                                                                             |31        |\n",
            "|0059d5cb-2af8-48f7-91df-18cc6794d176|Beliavsky,A           |d4|d5|c4|c6|Nf3|Nf6|Qb3|e6|Nc3|Nbd7|Bg5|Qa5|cxd5|exd5|e3|Ne4|Bd3|Nxg5|Nxg5|Qd8|f4|Qe7|Kf2|h6|Nf3|Qb4|Qc2|Be7|a3|Qd6|Rhf1|O-O|Kg1|c5|Rad1|Nf6|Ne5|cxd4|exd4|Bd7|h3|Bd8|g4|Bb6|Qf2|Bc6|Kg2|Rad8|Rfe1|Rfe8|Bb1|Ne4|Qf3|Qc7|Nxc6|Qxc6|Nxe4|dxe4|Rxe4|Rxe4|Qxe4|Qxe4+                                                                                                                                                                                                                                                                                                                                                       |31        |\n",
            "|0075db46-38dd-4ce9-8160-c397622791f1|Volkov,S1             |e4|e6|d4|d5|e5|c5|c3|Qb6|Nf3|Bd7|Bd3|cxd4|Nxd4|Ne7|Nd2|Nbc6|Nxc6|Nxc6|Nf3|h6|h4|d4|O-O|dxc3|bxc3|Bc5|Qe2|Qc7|Rb1|O-O-O|Be3|Bxe3|Qxe3|Kb8|Be4|Na5|Nd4|Nc4|Qe1|Nb6|f4|Rc8|Rf3|f5|Bc2|Nd5|Ne2|g5|hxg5|hxg5|fxg5|Rh5|g6|Rch8|g7|Rg8|Bb3|Qxe5|Bxd5|Qxd5|Qg3+|e5|Re3|f4|Nxf4|exf4|Qxf4+|Kc8|Qf8+|Kc7|Qf4+|Kc6|Qf6+|Kc7|Qf4+|Kc6                                                                                                                                                                                                                                                                                              |38        |\n",
            "|0075db46-38dd-4ce9-8160-c397622791f1|Nakamura,H            |e4|e6|d4|d5|e5|c5|c3|Qb6|Nf3|Bd7|Bd3|cxd4|Nxd4|Ne7|Nd2|Nbc6|Nxc6|Nxc6|Nf3|h6|h4|d4|O-O|dxc3|bxc3|Bc5|Qe2|Qc7|Rb1|O-O-O|Be3|Bxe3|Qxe3|Kb8|Be4|Na5|Nd4|Nc4|Qe1|Nb6|f4|Rc8|Rf3|f5|Bc2|Nd5|Ne2|g5|hxg5|hxg5|fxg5|Rh5|g6|Rch8|g7|Rg8|Bb3|Qxe5|Bxd5|Qxd5|Qg3+|e5|Re3|f4|Nxf4|exf4|Qxf4+|Kc8|Qf8+|Kc7|Qf4+|Kc6|Qf6+|Kc7|Qf4+                                                                                                                                                                                                                                                                                                  |38        |\n",
            "|007ba523-8617-42bc-8925-a348a1b4f709|Spassky, Boris V      |e4|Nf6|e5|Nd5|d4|d6|Nf3|g6|Bc4|Nb6|Bb3|Bg7|Nbd2|O-O|h3|a5|a4|dxe5|dxe5|Na6|O-O|Nc5|Qe2|Qe8|Ne4|Nbxa4|Bxa4|Nxa4|Re1|Nb6|Bd2|a4|Bg5|h6|Bh4|Bf5|g4|Be6|Nd4|Bc4|Qd2|Qd7|Rad1|Rfe8|f4|Bd5|Nc5|Qc8|Qc3|e6|Kh2|Nd7|Nd3|c5|Nb5|Qc6|Nd6|Qxd6|exd6|Bxc3|bxc3|f6|g5|hxg5|fxg5|f5|Bg3|Kf7|Ne5+|Nxe5|Bxe5|b5|Rf1|Rh8|Bf6|a3|Rf4|a2|c4|Bxc4|d7|Bd5|Kg3|Ra3+|c3|Rha8|Rh4|e5|Rh7+|Ke6|Re7+|Kd6|Rxe5|Rxc3+|Kf2|Rc2+|Ke1|Kxd7|Rexd5+|Kc6|Rd6+|Kb7|Rd7+|Ka6|R7d2|Rxd2|Kxd2|b4|h4|Kb5|h5|c4|Ra1|gxh5|g6|h4|g7|h3|Be7|Rg8|Bf8|h2|Kc2|Kc6|Rd1|b3+|Kc3|h1=Q|Rxh1|Kd5|Kb2|f4|Rd1+|Ke4|Rc1|Kd3|Rd1+|Ke2|Rc1|f3|Bc5|Rxg7|Rxc4|Rd7|Re4+|Kf1|Bd4   |74        |\n",
            "|007ba523-8617-42bc-8925-a348a1b4f709|Fischer, Robert James |e4|Nf6|e5|Nd5|d4|d6|Nf3|g6|Bc4|Nb6|Bb3|Bg7|Nbd2|O-O|h3|a5|a4|dxe5|dxe5|Na6|O-O|Nc5|Qe2|Qe8|Ne4|Nbxa4|Bxa4|Nxa4|Re1|Nb6|Bd2|a4|Bg5|h6|Bh4|Bf5|g4|Be6|Nd4|Bc4|Qd2|Qd7|Rad1|Rfe8|f4|Bd5|Nc5|Qc8|Qc3|e6|Kh2|Nd7|Nd3|c5|Nb5|Qc6|Nd6|Qxd6|exd6|Bxc3|bxc3|f6|g5|hxg5|fxg5|f5|Bg3|Kf7|Ne5+|Nxe5|Bxe5|b5|Rf1|Rh8|Bf6|a3|Rf4|a2|c4|Bxc4|d7|Bd5|Kg3|Ra3+|c3|Rha8|Rh4|e5|Rh7+|Ke6|Re7+|Kd6|Rxe5|Rxc3+|Kf2|Rc2+|Ke1|Kxd7|Rexd5+|Kc6|Rd6+|Kb7|Rd7+|Ka6|R7d2|Rxd2|Kxd2|b4|h4|Kb5|h5|c4|Ra1|gxh5|g6|h4|g7|h3|Be7|Rg8|Bf8|h2|Kc2|Kc6|Rd1|b3+|Kc3|h1=Q|Rxh1|Kd5|Kb2|f4|Rd1+|Ke4|Rc1|Kd3|Rd1+|Ke2|Rc1|f3|Bc5|Rxg7|Rxc4|Rd7|Re4+|Kf1|Bd4|f2|74        |\n",
            "|00bdc5cb-22b3-4fc8-820c-b6d8a05f04b4|Zvjaginsev, Vadim     |d4|Nf6|c4|g6|Nc3|Bg7|e4|d6|Be2|O-O|Nf3|e5|d5|a5|Bg5|Na6|O-O|Qe8|Nd2|Bd7|Rb1|h6|Be3|Nh7|b3|f5|f3|Nf6|a3|Nc5|b4|axb4|axb4|Na4|Nxa4|Rxa4|c5|Bb5|Re1|Ra3|Bxb5|Qxb5|Qe2|Qxe2|Rxe2|fxe4|fxe4|Ng4|Rbe1|Ra4|cxd6|cxd6|Bb6|Rc8|Ba5|h5|Rf1|Bh6|h3|Ne3|Rfe1|Nc2|Rc1|Kg7|Kh1|h4|Rf1|Bf4|Nf3|g5|Bd8|Nd4|Nxd4|exd4|Bb6|Rxb4|Ba5|d3|Bxb4|dxe2|Re1                                                                                                                                                                                                                                                                                     |41        |\n",
            "|00bdc5cb-22b3-4fc8-820c-b6d8a05f04b4|Polgar, Judit         |d4|Nf6|c4|g6|Nc3|Bg7|e4|d6|Be2|O-O|Nf3|e5|d5|a5|Bg5|Na6|O-O|Qe8|Nd2|Bd7|Rb1|h6|Be3|Nh7|b3|f5|f3|Nf6|a3|Nc5|b4|axb4|axb4|Na4|Nxa4|Rxa4|c5|Bb5|Re1|Ra3|Bxb5|Qxb5|Qe2|Qxe2|Rxe2|fxe4|fxe4|Ng4|Rbe1|Ra4|cxd6|cxd6|Bb6|Rc8|Ba5|h5|Rf1|Bh6|h3|Ne3|Rfe1|Nc2|Rc1|Kg7|Kh1|h4|Rf1|Bf4|Nf3|g5|Bd8|Nd4|Nxd4|exd4|Bb6|Rxb4|Ba5|d3|Bxb4|dxe2|Re1|Rc4                                                                                                                                                                                                                                                                                 |41        |\n",
            "|00c5cb30-540b-47b0-8fba-579280ca1e71|Azmaiparashvili, Zurab|d4|d5|c4|e6|Nf3|c6|Qc2|Nf6|g3|g6|Bg2|Bg7|O-O|O-O|Rd1|Nbd7|Nbd2|Re8|b3|b6|Bb2|Bb7|e4|dxe4|Nxe4|c5|Nd6|Qc7|Nxb7|Qxb7|Ne5|Qc7|Nxd7|Nxd7|Bxa8|Rxa8|dxc5|Nxc5|Bxg7|Kxg7|Qc3+|e5|Rd5|Re8|Re1|f6|f4|Nd7|Red1|Nf8|fxe5|fxe5|c5|Re6|c6|Kg8|Qc4                                                                                                                                                                                                                                                                                                                                                                                  |29        |\n",
            "|00c5cb30-540b-47b0-8fba-579280ca1e71|Slobodjan, Roman      |d4|d5|c4|e6|Nf3|c6|Qc2|Nf6|g3|g6|Bg2|Bg7|O-O|O-O|Rd1|Nbd7|Nbd2|Re8|b3|b6|Bb2|Bb7|e4|dxe4|Nxe4|c5|Nd6|Qc7|Nxb7|Qxb7|Ne5|Qc7|Nxd7|Nxd7|Bxa8|Rxa8|dxc5|Nxc5|Bxg7|Kxg7|Qc3+|e5|Rd5|Re8|Re1|f6|f4|Nd7|Red1|Nf8|fxe5|fxe5|c5|Re6|c6|Kg8|Qc4|Qxc6                                                                                                                                                                                                                                                                                                                                                                             |29        |\n",
            "|00cb694b-245d-4a52-8b64-58d554b6e3a2|Keres, Paul           |c4|Nf6|Nc3|d5|cxd5|Nxd5|e4|Nxc3|bxc3|g6|Ba3|Nd7|Nf3|Bg7|Be2|c5|O-O|O-O|d4|cxd4|cxd4|Nb6|Qb3|Bg4|Rad1|Bd7|Rc1|Ba4|Qb4|e6|Bb5|Bxb5|Qxb5|Re8|Rfd1|Rc8|Bc5|Qc7|Rb1|Qc6|Bxb6|axb6|e5|Qxb5|Rxb5|Rc6|g3|Ra8|Rd2|Bh6|Rdb2|Bc1|Rb1|Rxa2|Rxb6|Rxb6|Rxb6|Rb2|Rxb2|Bxb2|Kf1|Kf8|Ke2|Ke8|Kd3|b5|Ng5|h5|h3|Ba3|f3|Be7|Ne4|Kd7|g4|Kc6|Ng3|hxg4|fxg4|b4|Kc4|g5|Ne4|b3|Nc3|b2|Kb3|f6|Kxb2|fxe5|dxe5|Kc5|Kc2|Kd4|Nb5+|Kxe5|Kd3                                                                                                                                                                                                           |49        |\n",
            "|00ff8f8a-33d1-466c-8d38-bab60eaaa265|Tkachiev, Vladislav   |d4|Nf6|Nf3|e6|c4|d5|g3|c6|Bg2|Nbd7|Qc2|Bd6|O-O|O-O|Rd1|Qe7|Nc3|Rd8|e4|Nxe4|Nxe4|dxe4|Qxe4|c5|Bf4|Nf6|Bxd6|Rxd6|Qe5|Nd7|Qe3|a5|dxc5|Rxd1+|Rxd1|Nxc5|Nd4|g6|Nb5|Ra6|Qe5|Bd7|Nc7|f6|Qe3|Kg7|Nxa6|bxa6|b3                                                                                                                                                                                                                                                                                                                                                                                                                  |25        |\n",
            "|01102870-dbe8-4fd2-a8cd-4e51b79e110f|Kotronias,V           |d4|Nf6|g3|g6|Bg2|Bg7|e4|d6|Nc3|O-O|Nge2|Na6|O-O|c5|h3|cxd4|Nxd4|Nc5|Be3|Bd7|Nb3|Na4|Nxa4|Bxa4|Nd4|Bd7|Qd3|Rc8|c4|Qa5|Rfd1|Rfd8|a3|a6|Rac1|Qc7|b3|Qb8|a4|b6|Nc2|a5|Bd4|Bc6|Ne3|Nd7|Nd5|Re8|Bxg7|Kxg7|h4|e6|Nc3|Nc5|Qxd6|Qb7|Rb1|e5|f3|f5|exf5|gxf5|Qd2|Kh8|Nd5|Rg8|Kh2|Bxd5|cxd5|Qg7|Qg5|Qf7|Qe3|Qf6|f4|exf4|Qd4|fxg3+|Kh3|Rcf8|Qxf6+|Rxf6|Rd4|f4|Rf1|Rgf8|Rf3|Nd7|d6|Ne5|d7|Nxf3|d8=Q|Ng1+|Kg4|Rg6+|Qg5|Rxg5+|hxg5|f3|Rd1|Ne2|Bxf3|Rf4+|Kh5|Rxf3|Kh6|Kg8                                                                                                                                                               |54        |\n",
            "|01102870-dbe8-4fd2-a8cd-4e51b79e110f|Kacheishvili,G        |d4|Nf6|g3|g6|Bg2|Bg7|e4|d6|Nc3|O-O|Nge2|Na6|O-O|c5|h3|cxd4|Nxd4|Nc5|Be3|Bd7|Nb3|Na4|Nxa4|Bxa4|Nd4|Bd7|Qd3|Rc8|c4|Qa5|Rfd1|Rfd8|a3|a6|Rac1|Qc7|b3|Qb8|a4|b6|Nc2|a5|Bd4|Bc6|Ne3|Nd7|Nd5|Re8|Bxg7|Kxg7|h4|e6|Nc3|Nc5|Qxd6|Qb7|Rb1|e5|f3|f5|exf5|gxf5|Qd2|Kh8|Nd5|Rg8|Kh2|Bxd5|cxd5|Qg7|Qg5|Qf7|Qe3|Qf6|f4|exf4|Qd4|fxg3+|Kh3|Rcf8|Qxf6+|Rxf6|Rd4|f4|Rf1|Rgf8|Rf3|Nd7|d6|Ne5|d7|Nxf3|d8=Q|Ng1+|Kg4|Rg6+|Qg5|Rxg5+|hxg5|f3|Rd1|Ne2|Bxf3|Rf4+|Kh5|Rxf3|Kh6                                                                                                                                                                   |54        |\n",
            "|0128c0c8-d901-4c87-9452-3981c597eb7c|Karpov, Anatoly       |c4|c5|Nf3|Nf6|Nc3|d5|cxd5|Nxd5|d4|Nxc3|bxc3|g6|e3|Bg7|Bd3|O-O|O-O|Qc7|Rb1|b6|Qe2|Rd8|Be4|Ba6|c4|Nc6|d5|f5|Bd3|e5|e4|Nd4|Nxd4|cxd4|Bg5|Rf8|Rfc1|Rac8|Bd2|Rf7|a4|fxe4|Qxe4|Rcf8|f3|Bc8|a5|Bf5|Qe2|Re8|Be4|Bf8|Qd3|Bc5|Ra1|Qd7|Re1|Qc8|Kh1|Rc7|Rab1|Kg7|Rec1|Bxe4|fxe4|Rf7|Qg3|bxa5|Bxa5|Rf4|Re1|Qa6|Bd2|Rf7|Qd3|Ref8|h3|Rf2|Ra1|Qf6|Rg1|h5|Ra5|Qe7|Rb1|h4|Ra6|R8f7|Rc6|Qf8|Rg1|Be7|Re6|Kh7|Be1|Rf1|Bd2|Bc5|Rc6|R7f3|gxf3|Rxf3|Rc7+|Kh8|Bh6|Rxd3|Bxf8|Rxh3+|Kg2|Rg3+|Kh2|Rxg1|Bxc5                                                                                                                                        |57        |\n",
            "|0128c0c8-d901-4c87-9452-3981c597eb7c|Kasparov, Gary        |c4|c5|Nf3|Nf6|Nc3|d5|cxd5|Nxd5|d4|Nxc3|bxc3|g6|e3|Bg7|Bd3|O-O|O-O|Qc7|Rb1|b6|Qe2|Rd8|Be4|Ba6|c4|Nc6|d5|f5|Bd3|e5|e4|Nd4|Nxd4|cxd4|Bg5|Rf8|Rfc1|Rac8|Bd2|Rf7|a4|fxe4|Qxe4|Rcf8|f3|Bc8|a5|Bf5|Qe2|Re8|Be4|Bf8|Qd3|Bc5|Ra1|Qd7|Re1|Qc8|Kh1|Rc7|Rab1|Kg7|Rec1|Bxe4|fxe4|Rf7|Qg3|bxa5|Bxa5|Rf4|Re1|Qa6|Bd2|Rf7|Qd3|Ref8|h3|Rf2|Ra1|Qf6|Rg1|h5|Ra5|Qe7|Rb1|h4|Ra6|R8f7|Rc6|Qf8|Rg1|Be7|Re6|Kh7|Be1|Rf1|Bd2|Bc5|Rc6|R7f3|gxf3|Rxf3|Rc7+|Kh8|Bh6|Rxd3|Bxf8|Rxh3+|Kg2|Rg3+|Kh2|Rxg1|Bxc5|d3                                                                                                                                     |57        |\n",
            "|01af512b-f6cd-471a-bc9d-4d52df30ecce|Bogoljubow, Efim      |d4|Nf6|c4|e6|Nc3|Bb4|Qb3|Qe7|a3|Bxc3+|Qxc3|b6|f3|d5|cxd5|Nxd5|Qc2|Qh4+|g3|Qxd4|e4|Ne7|Bf4|Bd7|Rd1|Qa4|Qxc7|Qc6|Ne2|Qxc7|Bxc7|Na6|Bd6|Bb5|Nc3|Bxf1|Rxf1|Nc8|Bf4|Ke7|Rf2|Rd8|Rxd8|Kxd8|Rd2+|Ke8|Nb5|f6|b4|Ne7|Kd1|Ng6|Bc7|e5|Kc2|Nf8|Bd6|Ne6|f4|exf4|gxf4|Rc8+|Kb3|Ra8|h4|Kf7|f5|Nd8|Bf4|Ke7|Rg2|g6|Rc2|gxf5|exf5|Nf7|Re2+|Kd7|Re6|Rg8|Rxf6|Ke7|Re6+|Kd7|Bd6|Nxd6|Rxd6+|Ke8|Nxa7|Rg3+|Ka4|Rg7|Nc6|Nc7|f6                                                                                                                                                                                                                 |48        |\n",
            "|01b07d18-1151-4549-824c-973aa22ad62d|Vladimirov,E          |d4|d5|c4|c6|Nf3|Nf6|Nc3|e6|cxd5|exd5|Bg5|h6|Bh4|Bf5|Qb3|g5|Bg3|Qb6|Nd2|Nbd7|e3|Nh5|Be2|Nxg3|hxg3|Bg7|Rc1|O-O|Na4|Qa5|Nc5|Nxc5|Rxc5|Qb6|g4|Qxb3|Nxb3|Bd7|Rc2                                                                                                                                                                                                                                                                                                                                                                                                                                                            |20        |\n",
            "+------------------------------------+----------------------+-----------------------------------------------------------------------------------------------------------------------------------------------------------------------------------------------------------------------------------------------------------------------------------------------------------------------------------------------------------------------------------------------------------------------------------------------------------------------------------------------------------------------------------------------------------------------------------------------------------------------+----------+\n",
            "only showing top 20 rows\n",
            "\n"
          ]
        }
      ]
    },
    {
      "cell_type": "code",
      "source": [
        "#11 Total Number of games where losing player has more Captured score than Winning player\n",
        "d11 = spark.sql(\"\"\"select count(*) as total_number_of_games\n",
        "             from\n",
        "                 (select game_id, player, winner,\n",
        "                  case when player = white then captured_score_for_white else captured_score_for_black end as score_winner,\n",
        "                  case when player = white then captured_score_for_black else captured_score_for_white end as score_loser\n",
        "                  from\n",
        "                      (select t1.game_id, t1.white, t1.black,\n",
        "                       t2.player, t2.move_no, t1.winner, t1.loser, \n",
        "                       t2.captured_score_for_white, t2.captured_score_for_black,\n",
        "                       row_number() over(partition by t2.game_id order by t2.move_no desc) as prev_move\n",
        "                       from info2 t1 join moves t2\n",
        "                       on t1.game_id = t2.game_id)\n",
        "                  where prev_move <= 2\n",
        "                  and winner != 'draw'\n",
        "                   and loser != 'draw')\n",
        "             where player = winner\n",
        "             and score_loser > score_winner\"\"\")\n",
        "d11.show(truncate = False)"
      ],
      "metadata": {
        "colab": {
          "base_uri": "https://localhost:8080/"
        },
        "id": "TFd1QYK4w5zh",
        "outputId": "341c5559-9dc5-4e4a-c448-0cdfcdbc7377"
      },
      "execution_count": 35,
      "outputs": [
        {
          "output_type": "stream",
          "name": "stdout",
          "text": [
            "+---------------------+\n",
            "|total_number_of_games|\n",
            "+---------------------+\n",
            "|64                   |\n",
            "+---------------------+\n",
            "\n"
          ]
        }
      ]
    },
    {
      "cell_type": "code",
      "source": [
        "#12 List All Perfect Tournament with Winner Name\n",
        "d12 = spark.sql(\"\"\"select distinct t1.winner, t2.tournament_name \n",
        "             from info2 t1 join \n",
        "                               (select tournament_name \n",
        "                                from \n",
        "                                    (select tournament_name, winner, games, wins, \n",
        "                                     lead(wins) over(partition by tournament_name order by tournament_name) as wins2 \n",
        "                                     from \n",
        "                                         (select tournament_name, winner, games, count(game_id) as wins \n",
        "                                          from \n",
        "                                              (select *, \n",
        "                                               count(game_id) over(partition by tournament_name order by tournament_name) as games \n",
        "                                               from info2) \n",
        "                                               group by tournament_name, winner, games order by tournament_name)) \n",
        "                                where games = wins + wins2) t2 \n",
        "              on t1.tournament_name=t2.tournament_name \n",
        "              where t1.winner != 'draw' \n",
        "              order by tournament_name\"\"\")\n",
        "d12.show(truncate = False)"
      ],
      "metadata": {
        "colab": {
          "base_uri": "https://localhost:8080/"
        },
        "id": "AbQCTljC86z6",
        "outputId": "5d35ed15-2bd0-4d3b-fbcd-cbce53b5860d"
      },
      "execution_count": 36,
      "outputs": [
        {
          "output_type": "stream",
          "name": "stdout",
          "text": [
            "+---------------------+---------------+\n",
            "|winner               |tournament_name|\n",
            "+---------------------+---------------+\n",
            "|Lasker, Emanuel      |WorldChamp1907 |\n",
            "|Lasker, Emanuel      |WorldChamp1910b|\n",
            "|Capablanca, Jose Raul|WorldChamp1921 |\n",
            "|Kramnik,V            |WorldChamp2000 |\n",
            "|Carlsen, Magnus      |WorldChamp2013 |\n",
            "|Carlsen,M            |WorldChamp2021 |\n",
            "+---------------------+---------------+\n",
            "\n"
          ]
        }
      ]
    },
    {
      "cell_type": "code",
      "source": [
        "#13 Player with highest winning ratio\n",
        "d13 = spark.sql(\"\"\"select winner, round(sum(wins)/sum(games),2) as winning_ratio \n",
        "             from \n",
        "                 (select tournament_name, winner, games, count(game_id) as wins \n",
        "                  from \n",
        "                      (select *, \n",
        "                       count(game_id) over(partition by tournament_name order by tournament_name) as games \n",
        "                       from info2) \n",
        "                  where winner != 'draw' \n",
        "                  group by tournament_name, winner, games) \n",
        "             group by winner \n",
        "             order by winning_ratio desc limit 1\"\"\")\n",
        "d13.show()"
      ],
      "metadata": {
        "colab": {
          "base_uri": "https://localhost:8080/"
        },
        "id": "Sj5C8xP-N1ta",
        "outputId": "e0bc1ad3-62a7-4d1c-b2d2-a5b5965a7200"
      },
      "execution_count": 37,
      "outputs": [
        {
          "output_type": "stream",
          "name": "stdout",
          "text": [
            "+---------------+-------------+\n",
            "|         winner|winning_ratio|\n",
            "+---------------+-------------+\n",
            "|Lasker, Emanuel|         0.53|\n",
            "+---------------+-------------+\n",
            "\n"
          ]
        }
      ]
    },
    {
      "cell_type": "code",
      "source": [
        "#14 Player who had given checkmate with Pawn\n",
        "d14 = spark.sql(\"\"\"select player \n",
        "             from moves \n",
        "             where is_check_mate = 1 \n",
        "             and piece = 'P'\"\"\")\n",
        "d14.show()"
      ],
      "metadata": {
        "colab": {
          "base_uri": "https://localhost:8080/"
        },
        "id": "Be0QgZuEScQy",
        "outputId": "ffac73a7-b12b-4a81-eec4-957b9027a93b"
      },
      "execution_count": 38,
      "outputs": [
        {
          "output_type": "stream",
          "name": "stdout",
          "text": [
            "+--------------+\n",
            "|        player|\n",
            "+--------------+\n",
            "|Andersson, Ulf|\n",
            "+--------------+\n",
            "\n"
          ]
        }
      ]
    },
    {
      "cell_type": "code",
      "source": [
        "#15 List games where player has won game without queen.\n",
        "d15 = spark.sql(\"\"\"select game_id, event, winner\n",
        "             from\n",
        "                 (select *, \n",
        "                  case when winner = white then white_queen_count \n",
        "                  else black_queen_count end as winner_queen\n",
        "                  from\n",
        "                      (select * from\n",
        "                                    (select t1.game_id, t1.event, t1.white, t1.black, t1.winner, \n",
        "                                     t2.move_no, t2.white_queen_count, t2.black_queen_count,\n",
        "                                     max(move_no) over(partition by t1.event order by t1.event) as final_move\n",
        "                                     from info2 t1 join moves t2 \n",
        "                                     on t1.game_id=t2.game_id)\n",
        "                       where move_no = final_move\n",
        "                       and winner != 'draw'))\n",
        "             where winner_queen = 0\"\"\")\n",
        "d15.show(truncate = False)"
      ],
      "metadata": {
        "colab": {
          "base_uri": "https://localhost:8080/"
        },
        "id": "x4__VCDJVqsM",
        "outputId": "54c91bda-d4ea-45c9-ab64-a281ab724395"
      },
      "execution_count": 39,
      "outputs": [
        {
          "output_type": "stream",
          "name": "stdout",
          "text": [
            "+------------------------------------+---------------------------+---------------------------+\n",
            "|game_id                             |event                      |winner                     |\n",
            "+------------------------------------+---------------------------+---------------------------+\n",
            "|7896fefd-d9ee-4d15-9909-a7406fab9800|World Championship 15th    |Bogoljubow, Efim           |\n",
            "|ac80d204-06ee-4be4-9252-c135246873b2|World Championship 17th    |Euwe, Max                  |\n",
            "|cd2bc0e8-9276-4f28-8e22-c8e0857fc11a|World Championship 12th    |Capablanca, Jose Raul      |\n",
            "|fbc815bc-1c6f-4204-a8b4-6d66b3e82803|World Championship 20th    |Smyslov, Vassily           |\n",
            "|32171e06-cf7b-48b2-b7a7-6008d0966104|World Championship 26th    |Spassky, Boris V           |\n",
            "|f836bd76-8dbb-4bc8-8f84-4d1da2e5bd2e|World Championship 7th     |Lasker, Emanuel            |\n",
            "|2f8329a5-0959-4d73-a919-dec8e688a621|World Championship 10th    |Lasker, Emanuel            |\n",
            "|007ba523-8617-42bc-8925-a348a1b4f709|World Championship 28th    |Fischer, Robert James      |\n",
            "|5736e77c-0cc4-47ec-9082-434f6643e234|World Championship 35th-KK5|Kasparov, Gary             |\n",
            "|b9c7f00f-f1ec-4c9c-87d9-e16e17c35251|World Championship 33th-KK3|Karpov, Anatoly            |\n",
            "|7bb045e8-5a7a-4cef-a907-b6d9c7d4597a|World Championship 1st     |Zukertort, Johannes Hermann|\n",
            "|58e83255-93bb-4d58-8c14-78a991419338|WCh 2021                   |Carlsen,M                  |\n",
            "|9695f339-4c12-479a-ac30-ced98b200d29|World Championship 2nd     |Chigorin, Mikhail          |\n",
            "|f912b083-c793-4901-97df-e8c8ebad60ed|World Championship 21th    |Smyslov, Vassily           |\n",
            "|c9368ab9-d895-456b-8f8a-ac7f8610b66b|World Championship 6th     |Lasker, Emanuel            |\n",
            "|e92208c7-2a0d-4bef-8cfd-7ad8c93e2490|WCh 2013                   |Carlsen, Magnus            |\n",
            "|a9e346b5-0066-40c1-a0cb-a3c841d11128|WCh Rapid Tiebreak         |Anand, Viswanathan         |\n",
            "|55dc58f3-7592-4b3f-9bc2-195de48794e1|World Championship 9th     |Lasker, Emanuel            |\n",
            "+------------------------------------+---------------------------+---------------------------+\n",
            "\n"
          ]
        }
      ]
    },
    {
      "cell_type": "markdown",
      "source": [
        "# **Section-3 (saving results in google drive folder):**"
      ],
      "metadata": {
        "id": "D6GAt3Idsgq3"
      }
    },
    {
      "cell_type": "code",
      "source": [
        "# mounting google drive\n",
        "from google.colab import drive\n",
        "drive.mount('/content/drive')"
      ],
      "metadata": {
        "colab": {
          "base_uri": "https://localhost:8080/"
        },
        "id": "nLIlVYPxsrE6",
        "outputId": "19bdebab-73e2-42cd-9dde-5abe17c1d7ad"
      },
      "execution_count": 40,
      "outputs": [
        {
          "output_type": "stream",
          "name": "stdout",
          "text": [
            "Mounted at /content/drive\n"
          ]
        }
      ]
    },
    {
      "cell_type": "code",
      "source": [
        "# creating driectory in google drive\n",
        "import os\n",
        "try:\n",
        "  path = \"drive/MyDrive/DE_SOLUTION_MohammadTabish_Siddiqui/results\"\n",
        "  os.mkdir(path)\n",
        "except:\n",
        "  print(\"Folder already present\")"
      ],
      "metadata": {
        "colab": {
          "base_uri": "https://localhost:8080/"
        },
        "id": "TwjAsNBkzaar",
        "outputId": "2ae27bca-fd44-435e-c9e4-ea0be5aff1f6"
      },
      "execution_count": 46,
      "outputs": [
        {
          "output_type": "stream",
          "name": "stdout",
          "text": [
            "Folder already present\n"
          ]
        }
      ]
    },
    {
      "cell_type": "code",
      "source": [
        "# creating python function to accept list of spark dataframes as argument and converting them into pandas dataframe\n",
        "l = [d1, d2, d3, d4, d5, d6, d7, d8, d9, d10, d11, d12, d13, d14, d15]\n",
        "l"
      ],
      "metadata": {
        "colab": {
          "base_uri": "https://localhost:8080/"
        },
        "id": "OrSXMGob1RnK",
        "outputId": "918af5dd-37d5-4ce0-a782-27dd1d03021a"
      },
      "execution_count": 71,
      "outputs": [
        {
          "output_type": "execute_result",
          "data": {
            "text/plain": [
              "[DataFrame[winner: string, tournament_name: string],\n",
              " DataFrame[player_name: string, number_of_wins: bigint],\n",
              " DataFrame[eco: string, eco_name: string, number_of_occurences: bigint],\n",
              " DataFrame[eco: string, eco_name: string],\n",
              " DataFrame[game_id: string, event: string, tournament_name: string, number_of_moves: int],\n",
              " DataFrame[game_id: string, event: string, tournament_name: string, number_of_moves: int],\n",
              " DataFrame[winner: string, max(winner_elo): int],\n",
              " DataFrame[player_name: string],\n",
              " DataFrame[winner: string, count(player): bigint],\n",
              " DataFrame[game_id: string, player: string, move_sequence: string, move_count: int],\n",
              " DataFrame[total_number_of_games: bigint],\n",
              " DataFrame[winner: string, tournament_name: string],\n",
              " DataFrame[winner: string, winning_ratio: double],\n",
              " DataFrame[player: string],\n",
              " DataFrame[game_id: string, event: string, winner: string]]"
            ]
          },
          "metadata": {},
          "execution_count": 71
        }
      ]
    },
    {
      "cell_type": "code",
      "source": [
        "# function to conver spark dataframe to pandas dataframe\n",
        "def convert(x):\n",
        "  global a\n",
        "  dp1 = x[0].toPandas()\n",
        "  dp2 = x[1].toPandas()\n",
        "  dp3 = x[2].toPandas()\n",
        "  dp4 = x[3].toPandas()\n",
        "  dp5 = x[4].toPandas()\n",
        "  dp6 = x[5].toPandas()\n",
        "  dp7 = x[6].toPandas()\n",
        "  dp8 = x[7].toPandas()\n",
        "  dp9 = x[8].toPandas()\n",
        "  dp10 = x[9].toPandas()\n",
        "  dp11 = x[10].toPandas()\n",
        "  dp12 = x[11].toPandas()\n",
        "  dp13 = x[12].toPandas()\n",
        "  dp14 = x[13].toPandas()\n",
        "  dp15 = x[14].toPandas()\n",
        "  a = [dp1, dp2, dp3, dp4, dp5, dp6, dp7, dp8, dp9, dp10, dp11, dp12, dp13, dp14, dp15]\n",
        "\n",
        "convert(l)"
      ],
      "metadata": {
        "id": "WKef4eX0B6uB"
      },
      "execution_count": 67,
      "outputs": []
    },
    {
      "cell_type": "code",
      "source": [
        "# converting pandas dataframe into csv files and saving them in google drive\n",
        "import pandas as pd\n",
        "\n",
        "def save_csv(b):\n",
        "  b[0].to_csv(r'drive/MyDrive/DE_SOLUTION_MohammadTabish_Siddiqui/results/df1.csv', index = False)\n",
        "  b[1].to_csv(r'drive/MyDrive/DE_SOLUTION_MohammadTabish_Siddiqui/results/df2.csv', index = False)\n",
        "  b[2].to_csv(r'drive/MyDrive/DE_SOLUTION_MohammadTabish_Siddiqui/results/df3.csv', index = False)\n",
        "  b[3].to_csv(r'drive/MyDrive/DE_SOLUTION_MohammadTabish_Siddiqui/results/df4.csv', index = False)\n",
        "  b[4].to_csv(r'drive/MyDrive/DE_SOLUTION_MohammadTabish_Siddiqui/results/df5.csv', index = False)\n",
        "  b[5].to_csv(r'drive/MyDrive/DE_SOLUTION_MohammadTabish_Siddiqui/results/df6.csv', index = False)\n",
        "  b[6].to_csv(r'drive/MyDrive/DE_SOLUTION_MohammadTabish_Siddiqui/results/df7.csv', index = False)\n",
        "  b[7].to_csv(r'drive/MyDrive/DE_SOLUTION_MohammadTabish_Siddiqui/results/df8.csv', index = False)\n",
        "  b[8].to_csv(r'drive/MyDrive/DE_SOLUTION_MohammadTabish_Siddiqui/results/df9.csv', index = False)\n",
        "  b[9].to_csv(r'drive/MyDrive/DE_SOLUTION_MohammadTabish_Siddiqui/results/df10.csv', index = False)\n",
        "  b[10].to_csv(r'drive/MyDrive/DE_SOLUTION_MohammadTabish_Siddiqui/results/df11.csv', index = False)\n",
        "  b[11].to_csv(r'drive/MyDrive/DE_SOLUTION_MohammadTabish_Siddiqui/results/df12.csv', index = False)\n",
        "  b[12].to_csv(r'drive/MyDrive/DE_SOLUTION_MohammadTabish_Siddiqui/results/df13.csv', index = False)\n",
        "  b[13].to_csv(r'drive/MyDrive/DE_SOLUTION_MohammadTabish_Siddiqui/results/df14.csv', index = False)\n",
        "  b[14].to_csv(r'drive/MyDrive/DE_SOLUTION_MohammadTabish_Siddiqui/results/df15.csv', index = False)\n",
        "\n",
        "save_csv(a)"
      ],
      "metadata": {
        "id": "vLInacgOJD1B"
      },
      "execution_count": 70,
      "outputs": []
    }
  ]
}